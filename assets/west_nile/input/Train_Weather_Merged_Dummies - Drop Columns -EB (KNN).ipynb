{
 "cells": [
  {
   "cell_type": "code",
   "execution_count": 483,
   "metadata": {
    "collapsed": false
   },
   "outputs": [],
   "source": [
    "import pandas as pd\n",
    "\n",
    "train_weather = pd.read_csv('Train_Weather_Merged_Dummies.csv')\n",
    "test_weather = pd.read_csv('test2.csv') #'T001' 'T054C'"
   ]
  },
  {
   "cell_type": "code",
   "execution_count": 484,
   "metadata": {
    "collapsed": false,
    "scrolled": false
   },
   "outputs": [],
   "source": [
    "cols = ['Tmax', 'Tmin', 'Tavg', 'DewPoint',\n",
    "        'Heat', 'PrecipTotal', 'Cool', 'StnPressure', 'ResultDir', 'AvgSpeed', \n",
    "        'Block', 'Latitude', 'Longitude', 'T002', 'T007', 'T015', 'T045', 'T046', 'T048', 'T049', \n",
    "        'T050', 'T054', 'T086', 'T091', 'T094', 'T096', 'T129', 'T143', 'T148', 'T153', 'T159', 'T009', \n",
    "        'T011', 'T016', 'T019', 'T025', 'T028', 'T031', 'T033', 'T089', 'T090', 'T092', 'T135', 'T141', \n",
    "        'T142', 'T145', 'T146', 'T147', 'T149', 'T150', 'T151', 'T152', 'T154', 'T158', 'T162', 'T218', \n",
    "        'T220', 'T003', 'T006', 'T008', 'T012', 'T034', 'T037', 'T040', 'T043', 'T047', 'T051', 'T085',\n",
    "        'T088', 'T161', 'T219', 'T013', 'T014', 'T018', 'T030', 'T084', 'T144', 'T160', 'T005', 'T017', 'T044',\n",
    "        'T095', 'T004', 'T035', 'T036', 'T039', 'T060', 'T061', 'T062', 'T065', 'T066', 'T067', 'T069', 'T070', \n",
    "        'T071', 'T073', 'T074', 'T075', 'T076', 'T077', 'T079', 'T080', 'T081', 'T082', 'T083', 'T114', 'T155',\n",
    "        'T063', 'T115', 'T138', 'T200', 'T206', 'T209', 'T212', 'T215', 'T107', 'T128', 'T072', 'T078', 'T097', \n",
    "        'T099', 'T100', 'T102', 'T103', 'T027', 'T156', 'T157', 'T221', 'T900', 'T903', 'T222', 'T223', 'T225', \n",
    "        'T227', 'T224', 'T226', 'T229', 'T230', 'T228', 'T232', 'T231', 'T235', 'T233', 'T236', 'T237', 'T238', \n",
    "        'T094B', 'CULEX PIPIENS/RESTUANS', 'CULEX RESTUANS', 'CULEX PIPIENS']"
   ]
  },
  {
   "cell_type": "code",
   "execution_count": 485,
   "metadata": {
    "collapsed": false
   },
   "outputs": [
    {
     "data": {
      "text/html": [
       "<div>\n",
       "<table border=\"1\" class=\"dataframe\">\n",
       "  <thead>\n",
       "    <tr style=\"text-align: right;\">\n",
       "      <th></th>\n",
       "      <th>Station</th>\n",
       "      <th>Date</th>\n",
       "      <th>Tmax</th>\n",
       "      <th>Tmin</th>\n",
       "      <th>Tavg</th>\n",
       "      <th>DewPoint</th>\n",
       "      <th>Heat</th>\n",
       "      <th>Cool</th>\n",
       "      <th>PrecipTotal</th>\n",
       "      <th>StnPressure</th>\n",
       "      <th>ResultDir</th>\n",
       "      <th>AvgSpeed</th>\n",
       "      <th>Address</th>\n",
       "      <th>Species</th>\n",
       "      <th>Block</th>\n",
       "      <th>Street</th>\n",
       "      <th>Trap</th>\n",
       "      <th>AddressNumberAndStreet</th>\n",
       "      <th>Latitude</th>\n",
       "      <th>Longitude</th>\n",
       "      <th>AddressAccuracy</th>\n",
       "      <th>NumMosquitos</th>\n",
       "      <th>WnvPresent</th>\n",
       "      <th>T002</th>\n",
       "      <th>T007</th>\n",
       "      <th>T015</th>\n",
       "      <th>T045</th>\n",
       "      <th>T046</th>\n",
       "      <th>T048</th>\n",
       "      <th>T049</th>\n",
       "      <th>T050</th>\n",
       "      <th>T054</th>\n",
       "      <th>T086</th>\n",
       "      <th>T091</th>\n",
       "      <th>T094</th>\n",
       "      <th>T096</th>\n",
       "      <th>T129</th>\n",
       "      <th>T143</th>\n",
       "      <th>T148</th>\n",
       "      <th>T153</th>\n",
       "      <th>T159</th>\n",
       "      <th>T009</th>\n",
       "      <th>T011</th>\n",
       "      <th>T016</th>\n",
       "      <th>T019</th>\n",
       "      <th>T025</th>\n",
       "      <th>T028</th>\n",
       "      <th>T031</th>\n",
       "      <th>T033</th>\n",
       "      <th>T089</th>\n",
       "      <th>T090</th>\n",
       "      <th>T092</th>\n",
       "      <th>T135</th>\n",
       "      <th>T141</th>\n",
       "      <th>T142</th>\n",
       "      <th>T145</th>\n",
       "      <th>T146</th>\n",
       "      <th>T147</th>\n",
       "      <th>T149</th>\n",
       "      <th>T150</th>\n",
       "      <th>T151</th>\n",
       "      <th>T152</th>\n",
       "      <th>T154</th>\n",
       "      <th>T158</th>\n",
       "      <th>T162</th>\n",
       "      <th>T218</th>\n",
       "      <th>T220</th>\n",
       "      <th>T001</th>\n",
       "      <th>T003</th>\n",
       "      <th>T006</th>\n",
       "      <th>T008</th>\n",
       "      <th>T012</th>\n",
       "      <th>T034</th>\n",
       "      <th>T037</th>\n",
       "      <th>T040</th>\n",
       "      <th>T043</th>\n",
       "      <th>T047</th>\n",
       "      <th>T051</th>\n",
       "      <th>T085</th>\n",
       "      <th>T088</th>\n",
       "      <th>T161</th>\n",
       "      <th>T219</th>\n",
       "      <th>T013</th>\n",
       "      <th>T014</th>\n",
       "      <th>T018</th>\n",
       "      <th>T030</th>\n",
       "      <th>T084</th>\n",
       "      <th>T144</th>\n",
       "      <th>T160</th>\n",
       "      <th>T005</th>\n",
       "      <th>T017</th>\n",
       "      <th>T044</th>\n",
       "      <th>T095</th>\n",
       "      <th>T004</th>\n",
       "      <th>T035</th>\n",
       "      <th>T036</th>\n",
       "      <th>T039</th>\n",
       "      <th>T060</th>\n",
       "      <th>T061</th>\n",
       "      <th>T062</th>\n",
       "      <th>T065</th>\n",
       "      <th>T066</th>\n",
       "      <th>T067</th>\n",
       "      <th>T069</th>\n",
       "      <th>T070</th>\n",
       "      <th>T071</th>\n",
       "      <th>T073</th>\n",
       "      <th>T074</th>\n",
       "      <th>T075</th>\n",
       "      <th>T076</th>\n",
       "      <th>T077</th>\n",
       "      <th>T079</th>\n",
       "      <th>T080</th>\n",
       "      <th>T081</th>\n",
       "      <th>T082</th>\n",
       "      <th>T083</th>\n",
       "      <th>T114</th>\n",
       "      <th>T155</th>\n",
       "      <th>T063</th>\n",
       "      <th>T115</th>\n",
       "      <th>T138</th>\n",
       "      <th>T200</th>\n",
       "      <th>T206</th>\n",
       "      <th>T209</th>\n",
       "      <th>T212</th>\n",
       "      <th>T215</th>\n",
       "      <th>T107</th>\n",
       "      <th>T128</th>\n",
       "      <th>T072</th>\n",
       "      <th>T078</th>\n",
       "      <th>T097</th>\n",
       "      <th>T099</th>\n",
       "      <th>T100</th>\n",
       "      <th>T102</th>\n",
       "      <th>T103</th>\n",
       "      <th>T027</th>\n",
       "      <th>T156</th>\n",
       "      <th>T157</th>\n",
       "      <th>T221</th>\n",
       "      <th>T900</th>\n",
       "      <th>T903</th>\n",
       "      <th>T222</th>\n",
       "      <th>T223</th>\n",
       "      <th>T225</th>\n",
       "      <th>T227</th>\n",
       "      <th>T224</th>\n",
       "      <th>T226</th>\n",
       "      <th>T229</th>\n",
       "      <th>T230</th>\n",
       "      <th>T228</th>\n",
       "      <th>T232</th>\n",
       "      <th>T231</th>\n",
       "      <th>T235</th>\n",
       "      <th>T233</th>\n",
       "      <th>T236</th>\n",
       "      <th>T237</th>\n",
       "      <th>T238</th>\n",
       "      <th>T094B</th>\n",
       "      <th>T054C</th>\n",
       "      <th>CULEX PIPIENS/RESTUANS</th>\n",
       "      <th>CULEX RESTUANS</th>\n",
       "      <th>CULEX PIPIENS</th>\n",
       "      <th>CULEX SALINARIUS</th>\n",
       "      <th>CULEX TERRITANS</th>\n",
       "      <th>CULEX TARSALIS</th>\n",
       "      <th>CULEX ERRATICUS</th>\n",
       "    </tr>\n",
       "  </thead>\n",
       "  <tbody>\n",
       "    <tr>\n",
       "      <th>0</th>\n",
       "      <td>1</td>\n",
       "      <td>2007-05-29</td>\n",
       "      <td>88</td>\n",
       "      <td>60</td>\n",
       "      <td>74</td>\n",
       "      <td>58</td>\n",
       "      <td>0</td>\n",
       "      <td>9</td>\n",
       "      <td>0.0</td>\n",
       "      <td>29.39</td>\n",
       "      <td>18</td>\n",
       "      <td>6.5</td>\n",
       "      <td>4100 North Oak Park Avenue, Chicago, IL 60634,...</td>\n",
       "      <td>CULEX PIPIENS/RESTUANS</td>\n",
       "      <td>41</td>\n",
       "      <td>N OAK PARK AVE</td>\n",
       "      <td>T002</td>\n",
       "      <td>4100  N OAK PARK AVE, Chicago, IL</td>\n",
       "      <td>41.954690</td>\n",
       "      <td>-87.800991</td>\n",
       "      <td>9</td>\n",
       "      <td>1</td>\n",
       "      <td>0</td>\n",
       "      <td>1</td>\n",
       "      <td>0</td>\n",
       "      <td>0</td>\n",
       "      <td>0</td>\n",
       "      <td>0</td>\n",
       "      <td>0</td>\n",
       "      <td>0</td>\n",
       "      <td>0</td>\n",
       "      <td>0</td>\n",
       "      <td>0</td>\n",
       "      <td>0</td>\n",
       "      <td>0</td>\n",
       "      <td>0</td>\n",
       "      <td>0</td>\n",
       "      <td>0</td>\n",
       "      <td>0</td>\n",
       "      <td>0</td>\n",
       "      <td>0</td>\n",
       "      <td>0</td>\n",
       "      <td>0</td>\n",
       "      <td>0</td>\n",
       "      <td>0</td>\n",
       "      <td>0</td>\n",
       "      <td>0</td>\n",
       "      <td>0</td>\n",
       "      <td>0</td>\n",
       "      <td>0</td>\n",
       "      <td>0</td>\n",
       "      <td>0</td>\n",
       "      <td>0</td>\n",
       "      <td>0</td>\n",
       "      <td>0</td>\n",
       "      <td>0</td>\n",
       "      <td>0</td>\n",
       "      <td>0</td>\n",
       "      <td>0</td>\n",
       "      <td>0</td>\n",
       "      <td>0</td>\n",
       "      <td>0</td>\n",
       "      <td>0</td>\n",
       "      <td>0</td>\n",
       "      <td>0</td>\n",
       "      <td>0</td>\n",
       "      <td>0</td>\n",
       "      <td>0</td>\n",
       "      <td>0</td>\n",
       "      <td>0</td>\n",
       "      <td>0</td>\n",
       "      <td>0</td>\n",
       "      <td>0</td>\n",
       "      <td>0</td>\n",
       "      <td>0</td>\n",
       "      <td>0</td>\n",
       "      <td>0</td>\n",
       "      <td>0</td>\n",
       "      <td>0</td>\n",
       "      <td>0</td>\n",
       "      <td>0</td>\n",
       "      <td>0</td>\n",
       "      <td>0</td>\n",
       "      <td>0</td>\n",
       "      <td>0</td>\n",
       "      <td>0</td>\n",
       "      <td>0</td>\n",
       "      <td>0</td>\n",
       "      <td>0</td>\n",
       "      <td>0</td>\n",
       "      <td>0</td>\n",
       "      <td>0</td>\n",
       "      <td>0</td>\n",
       "      <td>0</td>\n",
       "      <td>0</td>\n",
       "      <td>0</td>\n",
       "      <td>0</td>\n",
       "      <td>0</td>\n",
       "      <td>0</td>\n",
       "      <td>0</td>\n",
       "      <td>0</td>\n",
       "      <td>0</td>\n",
       "      <td>0</td>\n",
       "      <td>0</td>\n",
       "      <td>0</td>\n",
       "      <td>0</td>\n",
       "      <td>0</td>\n",
       "      <td>0</td>\n",
       "      <td>0</td>\n",
       "      <td>0</td>\n",
       "      <td>0</td>\n",
       "      <td>0</td>\n",
       "      <td>0</td>\n",
       "      <td>0</td>\n",
       "      <td>0</td>\n",
       "      <td>0</td>\n",
       "      <td>0</td>\n",
       "      <td>0</td>\n",
       "      <td>0</td>\n",
       "      <td>0</td>\n",
       "      <td>0</td>\n",
       "      <td>0</td>\n",
       "      <td>0</td>\n",
       "      <td>0</td>\n",
       "      <td>0</td>\n",
       "      <td>0</td>\n",
       "      <td>0</td>\n",
       "      <td>0</td>\n",
       "      <td>0</td>\n",
       "      <td>0</td>\n",
       "      <td>0</td>\n",
       "      <td>0</td>\n",
       "      <td>0</td>\n",
       "      <td>0</td>\n",
       "      <td>0</td>\n",
       "      <td>0</td>\n",
       "      <td>0</td>\n",
       "      <td>0</td>\n",
       "      <td>0</td>\n",
       "      <td>0</td>\n",
       "      <td>0</td>\n",
       "      <td>0</td>\n",
       "      <td>0</td>\n",
       "      <td>0</td>\n",
       "      <td>0</td>\n",
       "      <td>0</td>\n",
       "      <td>0</td>\n",
       "      <td>0</td>\n",
       "      <td>0</td>\n",
       "      <td>0</td>\n",
       "      <td>0</td>\n",
       "      <td>0</td>\n",
       "      <td>0</td>\n",
       "      <td>0</td>\n",
       "      <td>0</td>\n",
       "      <td>0</td>\n",
       "      <td>0</td>\n",
       "      <td>0</td>\n",
       "      <td>0</td>\n",
       "      <td>1</td>\n",
       "      <td>0</td>\n",
       "      <td>1</td>\n",
       "      <td>0</td>\n",
       "      <td>0</td>\n",
       "      <td>0</td>\n",
       "      <td>0</td>\n",
       "    </tr>\n",
       "    <tr>\n",
       "      <th>1</th>\n",
       "      <td>1</td>\n",
       "      <td>2007-05-29</td>\n",
       "      <td>88</td>\n",
       "      <td>60</td>\n",
       "      <td>74</td>\n",
       "      <td>58</td>\n",
       "      <td>0</td>\n",
       "      <td>9</td>\n",
       "      <td>0.0</td>\n",
       "      <td>29.39</td>\n",
       "      <td>18</td>\n",
       "      <td>6.5</td>\n",
       "      <td>4100 North Oak Park Avenue, Chicago, IL 60634,...</td>\n",
       "      <td>CULEX RESTUANS</td>\n",
       "      <td>41</td>\n",
       "      <td>N OAK PARK AVE</td>\n",
       "      <td>T002</td>\n",
       "      <td>4100  N OAK PARK AVE, Chicago, IL</td>\n",
       "      <td>41.954690</td>\n",
       "      <td>-87.800991</td>\n",
       "      <td>9</td>\n",
       "      <td>1</td>\n",
       "      <td>0</td>\n",
       "      <td>1</td>\n",
       "      <td>0</td>\n",
       "      <td>0</td>\n",
       "      <td>0</td>\n",
       "      <td>0</td>\n",
       "      <td>0</td>\n",
       "      <td>0</td>\n",
       "      <td>0</td>\n",
       "      <td>0</td>\n",
       "      <td>0</td>\n",
       "      <td>0</td>\n",
       "      <td>0</td>\n",
       "      <td>0</td>\n",
       "      <td>0</td>\n",
       "      <td>0</td>\n",
       "      <td>0</td>\n",
       "      <td>0</td>\n",
       "      <td>0</td>\n",
       "      <td>0</td>\n",
       "      <td>0</td>\n",
       "      <td>0</td>\n",
       "      <td>0</td>\n",
       "      <td>0</td>\n",
       "      <td>0</td>\n",
       "      <td>0</td>\n",
       "      <td>0</td>\n",
       "      <td>0</td>\n",
       "      <td>0</td>\n",
       "      <td>0</td>\n",
       "      <td>0</td>\n",
       "      <td>0</td>\n",
       "      <td>0</td>\n",
       "      <td>0</td>\n",
       "      <td>0</td>\n",
       "      <td>0</td>\n",
       "      <td>0</td>\n",
       "      <td>0</td>\n",
       "      <td>0</td>\n",
       "      <td>0</td>\n",
       "      <td>0</td>\n",
       "      <td>0</td>\n",
       "      <td>0</td>\n",
       "      <td>0</td>\n",
       "      <td>0</td>\n",
       "      <td>0</td>\n",
       "      <td>0</td>\n",
       "      <td>0</td>\n",
       "      <td>0</td>\n",
       "      <td>0</td>\n",
       "      <td>0</td>\n",
       "      <td>0</td>\n",
       "      <td>0</td>\n",
       "      <td>0</td>\n",
       "      <td>0</td>\n",
       "      <td>0</td>\n",
       "      <td>0</td>\n",
       "      <td>0</td>\n",
       "      <td>0</td>\n",
       "      <td>0</td>\n",
       "      <td>0</td>\n",
       "      <td>0</td>\n",
       "      <td>0</td>\n",
       "      <td>0</td>\n",
       "      <td>0</td>\n",
       "      <td>0</td>\n",
       "      <td>0</td>\n",
       "      <td>0</td>\n",
       "      <td>0</td>\n",
       "      <td>0</td>\n",
       "      <td>0</td>\n",
       "      <td>0</td>\n",
       "      <td>0</td>\n",
       "      <td>0</td>\n",
       "      <td>0</td>\n",
       "      <td>0</td>\n",
       "      <td>0</td>\n",
       "      <td>0</td>\n",
       "      <td>0</td>\n",
       "      <td>0</td>\n",
       "      <td>0</td>\n",
       "      <td>0</td>\n",
       "      <td>0</td>\n",
       "      <td>0</td>\n",
       "      <td>0</td>\n",
       "      <td>0</td>\n",
       "      <td>0</td>\n",
       "      <td>0</td>\n",
       "      <td>0</td>\n",
       "      <td>0</td>\n",
       "      <td>0</td>\n",
       "      <td>0</td>\n",
       "      <td>0</td>\n",
       "      <td>0</td>\n",
       "      <td>0</td>\n",
       "      <td>0</td>\n",
       "      <td>0</td>\n",
       "      <td>0</td>\n",
       "      <td>0</td>\n",
       "      <td>0</td>\n",
       "      <td>0</td>\n",
       "      <td>0</td>\n",
       "      <td>0</td>\n",
       "      <td>0</td>\n",
       "      <td>0</td>\n",
       "      <td>0</td>\n",
       "      <td>0</td>\n",
       "      <td>0</td>\n",
       "      <td>0</td>\n",
       "      <td>0</td>\n",
       "      <td>0</td>\n",
       "      <td>0</td>\n",
       "      <td>0</td>\n",
       "      <td>0</td>\n",
       "      <td>0</td>\n",
       "      <td>0</td>\n",
       "      <td>0</td>\n",
       "      <td>0</td>\n",
       "      <td>0</td>\n",
       "      <td>0</td>\n",
       "      <td>0</td>\n",
       "      <td>0</td>\n",
       "      <td>0</td>\n",
       "      <td>0</td>\n",
       "      <td>0</td>\n",
       "      <td>0</td>\n",
       "      <td>0</td>\n",
       "      <td>0</td>\n",
       "      <td>0</td>\n",
       "      <td>0</td>\n",
       "      <td>0</td>\n",
       "      <td>0</td>\n",
       "      <td>0</td>\n",
       "      <td>0</td>\n",
       "      <td>0</td>\n",
       "      <td>0</td>\n",
       "      <td>0</td>\n",
       "      <td>0</td>\n",
       "      <td>1</td>\n",
       "      <td>0</td>\n",
       "      <td>0</td>\n",
       "      <td>0</td>\n",
       "      <td>0</td>\n",
       "      <td>0</td>\n",
       "    </tr>\n",
       "    <tr>\n",
       "      <th>2</th>\n",
       "      <td>1</td>\n",
       "      <td>2007-05-29</td>\n",
       "      <td>88</td>\n",
       "      <td>60</td>\n",
       "      <td>74</td>\n",
       "      <td>58</td>\n",
       "      <td>0</td>\n",
       "      <td>9</td>\n",
       "      <td>0.0</td>\n",
       "      <td>29.39</td>\n",
       "      <td>18</td>\n",
       "      <td>6.5</td>\n",
       "      <td>6200 North Mandell Avenue, Chicago, IL 60646, USA</td>\n",
       "      <td>CULEX RESTUANS</td>\n",
       "      <td>62</td>\n",
       "      <td>N MANDELL AVE</td>\n",
       "      <td>T007</td>\n",
       "      <td>6200  N MANDELL AVE, Chicago, IL</td>\n",
       "      <td>41.994991</td>\n",
       "      <td>-87.769279</td>\n",
       "      <td>9</td>\n",
       "      <td>1</td>\n",
       "      <td>0</td>\n",
       "      <td>0</td>\n",
       "      <td>1</td>\n",
       "      <td>0</td>\n",
       "      <td>0</td>\n",
       "      <td>0</td>\n",
       "      <td>0</td>\n",
       "      <td>0</td>\n",
       "      <td>0</td>\n",
       "      <td>0</td>\n",
       "      <td>0</td>\n",
       "      <td>0</td>\n",
       "      <td>0</td>\n",
       "      <td>0</td>\n",
       "      <td>0</td>\n",
       "      <td>0</td>\n",
       "      <td>0</td>\n",
       "      <td>0</td>\n",
       "      <td>0</td>\n",
       "      <td>0</td>\n",
       "      <td>0</td>\n",
       "      <td>0</td>\n",
       "      <td>0</td>\n",
       "      <td>0</td>\n",
       "      <td>0</td>\n",
       "      <td>0</td>\n",
       "      <td>0</td>\n",
       "      <td>0</td>\n",
       "      <td>0</td>\n",
       "      <td>0</td>\n",
       "      <td>0</td>\n",
       "      <td>0</td>\n",
       "      <td>0</td>\n",
       "      <td>0</td>\n",
       "      <td>0</td>\n",
       "      <td>0</td>\n",
       "      <td>0</td>\n",
       "      <td>0</td>\n",
       "      <td>0</td>\n",
       "      <td>0</td>\n",
       "      <td>0</td>\n",
       "      <td>0</td>\n",
       "      <td>0</td>\n",
       "      <td>0</td>\n",
       "      <td>0</td>\n",
       "      <td>0</td>\n",
       "      <td>0</td>\n",
       "      <td>0</td>\n",
       "      <td>0</td>\n",
       "      <td>0</td>\n",
       "      <td>0</td>\n",
       "      <td>0</td>\n",
       "      <td>0</td>\n",
       "      <td>0</td>\n",
       "      <td>0</td>\n",
       "      <td>0</td>\n",
       "      <td>0</td>\n",
       "      <td>0</td>\n",
       "      <td>0</td>\n",
       "      <td>0</td>\n",
       "      <td>0</td>\n",
       "      <td>0</td>\n",
       "      <td>0</td>\n",
       "      <td>0</td>\n",
       "      <td>0</td>\n",
       "      <td>0</td>\n",
       "      <td>0</td>\n",
       "      <td>0</td>\n",
       "      <td>0</td>\n",
       "      <td>0</td>\n",
       "      <td>0</td>\n",
       "      <td>0</td>\n",
       "      <td>0</td>\n",
       "      <td>0</td>\n",
       "      <td>0</td>\n",
       "      <td>0</td>\n",
       "      <td>0</td>\n",
       "      <td>0</td>\n",
       "      <td>0</td>\n",
       "      <td>0</td>\n",
       "      <td>0</td>\n",
       "      <td>0</td>\n",
       "      <td>0</td>\n",
       "      <td>0</td>\n",
       "      <td>0</td>\n",
       "      <td>0</td>\n",
       "      <td>0</td>\n",
       "      <td>0</td>\n",
       "      <td>0</td>\n",
       "      <td>0</td>\n",
       "      <td>0</td>\n",
       "      <td>0</td>\n",
       "      <td>0</td>\n",
       "      <td>0</td>\n",
       "      <td>0</td>\n",
       "      <td>0</td>\n",
       "      <td>0</td>\n",
       "      <td>0</td>\n",
       "      <td>0</td>\n",
       "      <td>0</td>\n",
       "      <td>0</td>\n",
       "      <td>0</td>\n",
       "      <td>0</td>\n",
       "      <td>0</td>\n",
       "      <td>0</td>\n",
       "      <td>0</td>\n",
       "      <td>0</td>\n",
       "      <td>0</td>\n",
       "      <td>0</td>\n",
       "      <td>0</td>\n",
       "      <td>0</td>\n",
       "      <td>0</td>\n",
       "      <td>0</td>\n",
       "      <td>0</td>\n",
       "      <td>0</td>\n",
       "      <td>0</td>\n",
       "      <td>0</td>\n",
       "      <td>0</td>\n",
       "      <td>0</td>\n",
       "      <td>0</td>\n",
       "      <td>0</td>\n",
       "      <td>0</td>\n",
       "      <td>0</td>\n",
       "      <td>0</td>\n",
       "      <td>0</td>\n",
       "      <td>0</td>\n",
       "      <td>0</td>\n",
       "      <td>0</td>\n",
       "      <td>0</td>\n",
       "      <td>0</td>\n",
       "      <td>0</td>\n",
       "      <td>0</td>\n",
       "      <td>0</td>\n",
       "      <td>0</td>\n",
       "      <td>0</td>\n",
       "      <td>0</td>\n",
       "      <td>0</td>\n",
       "      <td>0</td>\n",
       "      <td>1</td>\n",
       "      <td>0</td>\n",
       "      <td>0</td>\n",
       "      <td>0</td>\n",
       "      <td>0</td>\n",
       "      <td>0</td>\n",
       "    </tr>\n",
       "    <tr>\n",
       "      <th>3</th>\n",
       "      <td>1</td>\n",
       "      <td>2007-05-29</td>\n",
       "      <td>88</td>\n",
       "      <td>60</td>\n",
       "      <td>74</td>\n",
       "      <td>58</td>\n",
       "      <td>0</td>\n",
       "      <td>9</td>\n",
       "      <td>0.0</td>\n",
       "      <td>29.39</td>\n",
       "      <td>18</td>\n",
       "      <td>6.5</td>\n",
       "      <td>7900 West Foster Avenue, Chicago, IL 60656, USA</td>\n",
       "      <td>CULEX PIPIENS/RESTUANS</td>\n",
       "      <td>79</td>\n",
       "      <td>W FOSTER AVE</td>\n",
       "      <td>T015</td>\n",
       "      <td>7900  W FOSTER AVE, Chicago, IL</td>\n",
       "      <td>41.974089</td>\n",
       "      <td>-87.824812</td>\n",
       "      <td>8</td>\n",
       "      <td>1</td>\n",
       "      <td>0</td>\n",
       "      <td>0</td>\n",
       "      <td>0</td>\n",
       "      <td>1</td>\n",
       "      <td>0</td>\n",
       "      <td>0</td>\n",
       "      <td>0</td>\n",
       "      <td>0</td>\n",
       "      <td>0</td>\n",
       "      <td>0</td>\n",
       "      <td>0</td>\n",
       "      <td>0</td>\n",
       "      <td>0</td>\n",
       "      <td>0</td>\n",
       "      <td>0</td>\n",
       "      <td>0</td>\n",
       "      <td>0</td>\n",
       "      <td>0</td>\n",
       "      <td>0</td>\n",
       "      <td>0</td>\n",
       "      <td>0</td>\n",
       "      <td>0</td>\n",
       "      <td>0</td>\n",
       "      <td>0</td>\n",
       "      <td>0</td>\n",
       "      <td>0</td>\n",
       "      <td>0</td>\n",
       "      <td>0</td>\n",
       "      <td>0</td>\n",
       "      <td>0</td>\n",
       "      <td>0</td>\n",
       "      <td>0</td>\n",
       "      <td>0</td>\n",
       "      <td>0</td>\n",
       "      <td>0</td>\n",
       "      <td>0</td>\n",
       "      <td>0</td>\n",
       "      <td>0</td>\n",
       "      <td>0</td>\n",
       "      <td>0</td>\n",
       "      <td>0</td>\n",
       "      <td>0</td>\n",
       "      <td>0</td>\n",
       "      <td>0</td>\n",
       "      <td>0</td>\n",
       "      <td>0</td>\n",
       "      <td>0</td>\n",
       "      <td>0</td>\n",
       "      <td>0</td>\n",
       "      <td>0</td>\n",
       "      <td>0</td>\n",
       "      <td>0</td>\n",
       "      <td>0</td>\n",
       "      <td>0</td>\n",
       "      <td>0</td>\n",
       "      <td>0</td>\n",
       "      <td>0</td>\n",
       "      <td>0</td>\n",
       "      <td>0</td>\n",
       "      <td>0</td>\n",
       "      <td>0</td>\n",
       "      <td>0</td>\n",
       "      <td>0</td>\n",
       "      <td>0</td>\n",
       "      <td>0</td>\n",
       "      <td>0</td>\n",
       "      <td>0</td>\n",
       "      <td>0</td>\n",
       "      <td>0</td>\n",
       "      <td>0</td>\n",
       "      <td>0</td>\n",
       "      <td>0</td>\n",
       "      <td>0</td>\n",
       "      <td>0</td>\n",
       "      <td>0</td>\n",
       "      <td>0</td>\n",
       "      <td>0</td>\n",
       "      <td>0</td>\n",
       "      <td>0</td>\n",
       "      <td>0</td>\n",
       "      <td>0</td>\n",
       "      <td>0</td>\n",
       "      <td>0</td>\n",
       "      <td>0</td>\n",
       "      <td>0</td>\n",
       "      <td>0</td>\n",
       "      <td>0</td>\n",
       "      <td>0</td>\n",
       "      <td>0</td>\n",
       "      <td>0</td>\n",
       "      <td>0</td>\n",
       "      <td>0</td>\n",
       "      <td>0</td>\n",
       "      <td>0</td>\n",
       "      <td>0</td>\n",
       "      <td>0</td>\n",
       "      <td>0</td>\n",
       "      <td>0</td>\n",
       "      <td>0</td>\n",
       "      <td>0</td>\n",
       "      <td>0</td>\n",
       "      <td>0</td>\n",
       "      <td>0</td>\n",
       "      <td>0</td>\n",
       "      <td>0</td>\n",
       "      <td>0</td>\n",
       "      <td>0</td>\n",
       "      <td>0</td>\n",
       "      <td>0</td>\n",
       "      <td>0</td>\n",
       "      <td>0</td>\n",
       "      <td>0</td>\n",
       "      <td>0</td>\n",
       "      <td>0</td>\n",
       "      <td>0</td>\n",
       "      <td>0</td>\n",
       "      <td>0</td>\n",
       "      <td>0</td>\n",
       "      <td>0</td>\n",
       "      <td>0</td>\n",
       "      <td>0</td>\n",
       "      <td>0</td>\n",
       "      <td>0</td>\n",
       "      <td>0</td>\n",
       "      <td>0</td>\n",
       "      <td>0</td>\n",
       "      <td>0</td>\n",
       "      <td>0</td>\n",
       "      <td>0</td>\n",
       "      <td>0</td>\n",
       "      <td>0</td>\n",
       "      <td>0</td>\n",
       "      <td>0</td>\n",
       "      <td>0</td>\n",
       "      <td>0</td>\n",
       "      <td>0</td>\n",
       "      <td>0</td>\n",
       "      <td>1</td>\n",
       "      <td>0</td>\n",
       "      <td>1</td>\n",
       "      <td>0</td>\n",
       "      <td>0</td>\n",
       "      <td>0</td>\n",
       "      <td>0</td>\n",
       "    </tr>\n",
       "    <tr>\n",
       "      <th>4</th>\n",
       "      <td>1</td>\n",
       "      <td>2007-05-29</td>\n",
       "      <td>88</td>\n",
       "      <td>60</td>\n",
       "      <td>74</td>\n",
       "      <td>58</td>\n",
       "      <td>0</td>\n",
       "      <td>9</td>\n",
       "      <td>0.0</td>\n",
       "      <td>29.39</td>\n",
       "      <td>18</td>\n",
       "      <td>6.5</td>\n",
       "      <td>7900 West Foster Avenue, Chicago, IL 60656, USA</td>\n",
       "      <td>CULEX RESTUANS</td>\n",
       "      <td>79</td>\n",
       "      <td>W FOSTER AVE</td>\n",
       "      <td>T015</td>\n",
       "      <td>7900  W FOSTER AVE, Chicago, IL</td>\n",
       "      <td>41.974089</td>\n",
       "      <td>-87.824812</td>\n",
       "      <td>8</td>\n",
       "      <td>4</td>\n",
       "      <td>0</td>\n",
       "      <td>0</td>\n",
       "      <td>0</td>\n",
       "      <td>1</td>\n",
       "      <td>0</td>\n",
       "      <td>0</td>\n",
       "      <td>0</td>\n",
       "      <td>0</td>\n",
       "      <td>0</td>\n",
       "      <td>0</td>\n",
       "      <td>0</td>\n",
       "      <td>0</td>\n",
       "      <td>0</td>\n",
       "      <td>0</td>\n",
       "      <td>0</td>\n",
       "      <td>0</td>\n",
       "      <td>0</td>\n",
       "      <td>0</td>\n",
       "      <td>0</td>\n",
       "      <td>0</td>\n",
       "      <td>0</td>\n",
       "      <td>0</td>\n",
       "      <td>0</td>\n",
       "      <td>0</td>\n",
       "      <td>0</td>\n",
       "      <td>0</td>\n",
       "      <td>0</td>\n",
       "      <td>0</td>\n",
       "      <td>0</td>\n",
       "      <td>0</td>\n",
       "      <td>0</td>\n",
       "      <td>0</td>\n",
       "      <td>0</td>\n",
       "      <td>0</td>\n",
       "      <td>0</td>\n",
       "      <td>0</td>\n",
       "      <td>0</td>\n",
       "      <td>0</td>\n",
       "      <td>0</td>\n",
       "      <td>0</td>\n",
       "      <td>0</td>\n",
       "      <td>0</td>\n",
       "      <td>0</td>\n",
       "      <td>0</td>\n",
       "      <td>0</td>\n",
       "      <td>0</td>\n",
       "      <td>0</td>\n",
       "      <td>0</td>\n",
       "      <td>0</td>\n",
       "      <td>0</td>\n",
       "      <td>0</td>\n",
       "      <td>0</td>\n",
       "      <td>0</td>\n",
       "      <td>0</td>\n",
       "      <td>0</td>\n",
       "      <td>0</td>\n",
       "      <td>0</td>\n",
       "      <td>0</td>\n",
       "      <td>0</td>\n",
       "      <td>0</td>\n",
       "      <td>0</td>\n",
       "      <td>0</td>\n",
       "      <td>0</td>\n",
       "      <td>0</td>\n",
       "      <td>0</td>\n",
       "      <td>0</td>\n",
       "      <td>0</td>\n",
       "      <td>0</td>\n",
       "      <td>0</td>\n",
       "      <td>0</td>\n",
       "      <td>0</td>\n",
       "      <td>0</td>\n",
       "      <td>0</td>\n",
       "      <td>0</td>\n",
       "      <td>0</td>\n",
       "      <td>0</td>\n",
       "      <td>0</td>\n",
       "      <td>0</td>\n",
       "      <td>0</td>\n",
       "      <td>0</td>\n",
       "      <td>0</td>\n",
       "      <td>0</td>\n",
       "      <td>0</td>\n",
       "      <td>0</td>\n",
       "      <td>0</td>\n",
       "      <td>0</td>\n",
       "      <td>0</td>\n",
       "      <td>0</td>\n",
       "      <td>0</td>\n",
       "      <td>0</td>\n",
       "      <td>0</td>\n",
       "      <td>0</td>\n",
       "      <td>0</td>\n",
       "      <td>0</td>\n",
       "      <td>0</td>\n",
       "      <td>0</td>\n",
       "      <td>0</td>\n",
       "      <td>0</td>\n",
       "      <td>0</td>\n",
       "      <td>0</td>\n",
       "      <td>0</td>\n",
       "      <td>0</td>\n",
       "      <td>0</td>\n",
       "      <td>0</td>\n",
       "      <td>0</td>\n",
       "      <td>0</td>\n",
       "      <td>0</td>\n",
       "      <td>0</td>\n",
       "      <td>0</td>\n",
       "      <td>0</td>\n",
       "      <td>0</td>\n",
       "      <td>0</td>\n",
       "      <td>0</td>\n",
       "      <td>0</td>\n",
       "      <td>0</td>\n",
       "      <td>0</td>\n",
       "      <td>0</td>\n",
       "      <td>0</td>\n",
       "      <td>0</td>\n",
       "      <td>0</td>\n",
       "      <td>0</td>\n",
       "      <td>0</td>\n",
       "      <td>0</td>\n",
       "      <td>0</td>\n",
       "      <td>0</td>\n",
       "      <td>0</td>\n",
       "      <td>0</td>\n",
       "      <td>0</td>\n",
       "      <td>0</td>\n",
       "      <td>0</td>\n",
       "      <td>0</td>\n",
       "      <td>0</td>\n",
       "      <td>0</td>\n",
       "      <td>0</td>\n",
       "      <td>0</td>\n",
       "      <td>0</td>\n",
       "      <td>0</td>\n",
       "      <td>0</td>\n",
       "      <td>1</td>\n",
       "      <td>0</td>\n",
       "      <td>0</td>\n",
       "      <td>0</td>\n",
       "      <td>0</td>\n",
       "      <td>0</td>\n",
       "    </tr>\n",
       "  </tbody>\n",
       "</table>\n",
       "</div>"
      ],
      "text/plain": [
       "   Station        Date  Tmax  Tmin  Tavg  DewPoint  Heat  Cool  PrecipTotal  \\\n",
       "0        1  2007-05-29    88    60    74        58     0     9          0.0   \n",
       "1        1  2007-05-29    88    60    74        58     0     9          0.0   \n",
       "2        1  2007-05-29    88    60    74        58     0     9          0.0   \n",
       "3        1  2007-05-29    88    60    74        58     0     9          0.0   \n",
       "4        1  2007-05-29    88    60    74        58     0     9          0.0   \n",
       "\n",
       "   StnPressure  ResultDir  AvgSpeed  \\\n",
       "0        29.39         18       6.5   \n",
       "1        29.39         18       6.5   \n",
       "2        29.39         18       6.5   \n",
       "3        29.39         18       6.5   \n",
       "4        29.39         18       6.5   \n",
       "\n",
       "                                             Address                 Species  \\\n",
       "0  4100 North Oak Park Avenue, Chicago, IL 60634,...  CULEX PIPIENS/RESTUANS   \n",
       "1  4100 North Oak Park Avenue, Chicago, IL 60634,...          CULEX RESTUANS   \n",
       "2  6200 North Mandell Avenue, Chicago, IL 60646, USA          CULEX RESTUANS   \n",
       "3    7900 West Foster Avenue, Chicago, IL 60656, USA  CULEX PIPIENS/RESTUANS   \n",
       "4    7900 West Foster Avenue, Chicago, IL 60656, USA          CULEX RESTUANS   \n",
       "\n",
       "   Block           Street  Trap             AddressNumberAndStreet   Latitude  \\\n",
       "0     41   N OAK PARK AVE  T002  4100  N OAK PARK AVE, Chicago, IL  41.954690   \n",
       "1     41   N OAK PARK AVE  T002  4100  N OAK PARK AVE, Chicago, IL  41.954690   \n",
       "2     62    N MANDELL AVE  T007   6200  N MANDELL AVE, Chicago, IL  41.994991   \n",
       "3     79     W FOSTER AVE  T015    7900  W FOSTER AVE, Chicago, IL  41.974089   \n",
       "4     79     W FOSTER AVE  T015    7900  W FOSTER AVE, Chicago, IL  41.974089   \n",
       "\n",
       "   Longitude  AddressAccuracy  NumMosquitos  WnvPresent  T002  T007  T015  \\\n",
       "0 -87.800991                9             1           0     1     0     0   \n",
       "1 -87.800991                9             1           0     1     0     0   \n",
       "2 -87.769279                9             1           0     0     1     0   \n",
       "3 -87.824812                8             1           0     0     0     1   \n",
       "4 -87.824812                8             4           0     0     0     1   \n",
       "\n",
       "   T045  T046  T048  T049  T050  T054  T086  T091  T094  T096  T129  T143  \\\n",
       "0     0     0     0     0     0     0     0     0     0     0     0     0   \n",
       "1     0     0     0     0     0     0     0     0     0     0     0     0   \n",
       "2     0     0     0     0     0     0     0     0     0     0     0     0   \n",
       "3     0     0     0     0     0     0     0     0     0     0     0     0   \n",
       "4     0     0     0     0     0     0     0     0     0     0     0     0   \n",
       "\n",
       "   T148  T153  T159  T009  T011  T016  T019  T025  T028  T031  T033  T089  \\\n",
       "0     0     0     0     0     0     0     0     0     0     0     0     0   \n",
       "1     0     0     0     0     0     0     0     0     0     0     0     0   \n",
       "2     0     0     0     0     0     0     0     0     0     0     0     0   \n",
       "3     0     0     0     0     0     0     0     0     0     0     0     0   \n",
       "4     0     0     0     0     0     0     0     0     0     0     0     0   \n",
       "\n",
       "   T090  T092  T135  T141  T142  T145  T146  T147  T149  T150  T151  T152  \\\n",
       "0     0     0     0     0     0     0     0     0     0     0     0     0   \n",
       "1     0     0     0     0     0     0     0     0     0     0     0     0   \n",
       "2     0     0     0     0     0     0     0     0     0     0     0     0   \n",
       "3     0     0     0     0     0     0     0     0     0     0     0     0   \n",
       "4     0     0     0     0     0     0     0     0     0     0     0     0   \n",
       "\n",
       "   T154  T158  T162  T218  T220  T001  T003  T006  T008  T012  T034  T037  \\\n",
       "0     0     0     0     0     0     0     0     0     0     0     0     0   \n",
       "1     0     0     0     0     0     0     0     0     0     0     0     0   \n",
       "2     0     0     0     0     0     0     0     0     0     0     0     0   \n",
       "3     0     0     0     0     0     0     0     0     0     0     0     0   \n",
       "4     0     0     0     0     0     0     0     0     0     0     0     0   \n",
       "\n",
       "   T040  T043  T047  T051  T085  T088  T161  T219  T013  T014  T018  T030  \\\n",
       "0     0     0     0     0     0     0     0     0     0     0     0     0   \n",
       "1     0     0     0     0     0     0     0     0     0     0     0     0   \n",
       "2     0     0     0     0     0     0     0     0     0     0     0     0   \n",
       "3     0     0     0     0     0     0     0     0     0     0     0     0   \n",
       "4     0     0     0     0     0     0     0     0     0     0     0     0   \n",
       "\n",
       "   T084  T144  T160  T005  T017  T044  T095  T004  T035  T036  T039  T060  \\\n",
       "0     0     0     0     0     0     0     0     0     0     0     0     0   \n",
       "1     0     0     0     0     0     0     0     0     0     0     0     0   \n",
       "2     0     0     0     0     0     0     0     0     0     0     0     0   \n",
       "3     0     0     0     0     0     0     0     0     0     0     0     0   \n",
       "4     0     0     0     0     0     0     0     0     0     0     0     0   \n",
       "\n",
       "   T061  T062  T065  T066  T067  T069  T070  T071  T073  T074  T075  T076  \\\n",
       "0     0     0     0     0     0     0     0     0     0     0     0     0   \n",
       "1     0     0     0     0     0     0     0     0     0     0     0     0   \n",
       "2     0     0     0     0     0     0     0     0     0     0     0     0   \n",
       "3     0     0     0     0     0     0     0     0     0     0     0     0   \n",
       "4     0     0     0     0     0     0     0     0     0     0     0     0   \n",
       "\n",
       "   T077  T079  T080  T081  T082  T083  T114  T155  T063  T115  T138  T200  \\\n",
       "0     0     0     0     0     0     0     0     0     0     0     0     0   \n",
       "1     0     0     0     0     0     0     0     0     0     0     0     0   \n",
       "2     0     0     0     0     0     0     0     0     0     0     0     0   \n",
       "3     0     0     0     0     0     0     0     0     0     0     0     0   \n",
       "4     0     0     0     0     0     0     0     0     0     0     0     0   \n",
       "\n",
       "   T206  T209  T212  T215  T107  T128  T072  T078  T097  T099  T100  T102  \\\n",
       "0     0     0     0     0     0     0     0     0     0     0     0     0   \n",
       "1     0     0     0     0     0     0     0     0     0     0     0     0   \n",
       "2     0     0     0     0     0     0     0     0     0     0     0     0   \n",
       "3     0     0     0     0     0     0     0     0     0     0     0     0   \n",
       "4     0     0     0     0     0     0     0     0     0     0     0     0   \n",
       "\n",
       "   T103  T027  T156  T157  T221  T900  T903  T222  T223  T225  T227  T224  \\\n",
       "0     0     0     0     0     0     0     0     0     0     0     0     0   \n",
       "1     0     0     0     0     0     0     0     0     0     0     0     0   \n",
       "2     0     0     0     0     0     0     0     0     0     0     0     0   \n",
       "3     0     0     0     0     0     0     0     0     0     0     0     0   \n",
       "4     0     0     0     0     0     0     0     0     0     0     0     0   \n",
       "\n",
       "   T226  T229  T230  T228  T232  T231  T235  T233  T236  T237  T238  T094B  \\\n",
       "0     0     0     0     0     0     0     0     0     0     0     0      0   \n",
       "1     0     0     0     0     0     0     0     0     0     0     0      0   \n",
       "2     0     0     0     0     0     0     0     0     0     0     0      0   \n",
       "3     0     0     0     0     0     0     0     0     0     0     0      0   \n",
       "4     0     0     0     0     0     0     0     0     0     0     0      0   \n",
       "\n",
       "   T054C  CULEX PIPIENS/RESTUANS  CULEX RESTUANS  CULEX PIPIENS  \\\n",
       "0      0                       1               0              1   \n",
       "1      0                       0               1              0   \n",
       "2      0                       0               1              0   \n",
       "3      0                       1               0              1   \n",
       "4      0                       0               1              0   \n",
       "\n",
       "   CULEX SALINARIUS  CULEX TERRITANS  CULEX TARSALIS  CULEX ERRATICUS  \n",
       "0                 0                0               0                0  \n",
       "1                 0                0               0                0  \n",
       "2                 0                0               0                0  \n",
       "3                 0                0               0                0  \n",
       "4                 0                0               0                0  "
      ]
     },
     "execution_count": 485,
     "metadata": {},
     "output_type": "execute_result"
    }
   ],
   "source": [
    "pd.set_option('display.max_columns', 500)\n",
    "\n",
    "train_weather.head()"
   ]
  },
  {
   "cell_type": "code",
   "execution_count": 486,
   "metadata": {
    "collapsed": false
   },
   "outputs": [],
   "source": [
    "train_weather.drop(['Address','Species', 'Street','Trap','AddressNumberAndStreet','AddressAccuracy'],inplace=True, axis=1)"
   ]
  },
  {
   "cell_type": "code",
   "execution_count": 489,
   "metadata": {
    "collapsed": false
   },
   "outputs": [],
   "source": [
    "train_weather.to_csv('train_weather_fool.csv', index=False)"
   ]
  },
  {
   "cell_type": "code",
   "execution_count": 427,
   "metadata": {
    "collapsed": true
   },
   "outputs": [],
   "source": [
    "# train_weather.to_csv('Train_Weather_Merged_Dummies_Cleaned.csv', index=False)"
   ]
  },
  {
   "cell_type": "code",
   "execution_count": 428,
   "metadata": {
    "collapsed": true
   },
   "outputs": [],
   "source": [
    "#KNN STARTS HERE #Skip to Bayes if doing Bayes"
   ]
  },
  {
   "cell_type": "code",
   "execution_count": 429,
   "metadata": {
    "collapsed": true
   },
   "outputs": [],
   "source": [
    "%matplotlib inline\n",
    "import matplotlib.pyplot as plt\n",
    "plt.rcParams['figure.figsize'] = (6, 4)\n",
    "plt.rcParams['font.size'] = 14\n",
    "from matplotlib.colors import ListedColormap\n",
    "cmap_bold = ListedColormap(['#FF0000', '#00FF00', '#0000FF'])"
   ]
  },
  {
   "cell_type": "code",
   "execution_count": 430,
   "metadata": {
    "collapsed": false
   },
   "outputs": [
    {
     "data": {
      "text/html": [
       "<div>\n",
       "<table border=\"1\" class=\"dataframe\">\n",
       "  <thead>\n",
       "    <tr style=\"text-align: right;\">\n",
       "      <th></th>\n",
       "      <th>Station</th>\n",
       "      <th>Date</th>\n",
       "      <th>Tmax</th>\n",
       "      <th>Tmin</th>\n",
       "      <th>Tavg</th>\n",
       "      <th>DewPoint</th>\n",
       "      <th>Heat</th>\n",
       "      <th>Cool</th>\n",
       "      <th>PrecipTotal</th>\n",
       "      <th>StnPressure</th>\n",
       "      <th>ResultDir</th>\n",
       "      <th>AvgSpeed</th>\n",
       "      <th>Block</th>\n",
       "      <th>Latitude</th>\n",
       "      <th>Longitude</th>\n",
       "      <th>NumMosquitos</th>\n",
       "      <th>WnvPresent</th>\n",
       "      <th>T002</th>\n",
       "      <th>T007</th>\n",
       "      <th>T015</th>\n",
       "      <th>T045</th>\n",
       "      <th>T046</th>\n",
       "      <th>T048</th>\n",
       "      <th>T049</th>\n",
       "      <th>T050</th>\n",
       "      <th>T054</th>\n",
       "      <th>T086</th>\n",
       "      <th>T091</th>\n",
       "      <th>T094</th>\n",
       "      <th>T096</th>\n",
       "      <th>T129</th>\n",
       "      <th>T143</th>\n",
       "      <th>T148</th>\n",
       "      <th>T153</th>\n",
       "      <th>T159</th>\n",
       "      <th>T009</th>\n",
       "      <th>T011</th>\n",
       "      <th>T016</th>\n",
       "      <th>T019</th>\n",
       "      <th>T025</th>\n",
       "      <th>T028</th>\n",
       "      <th>T031</th>\n",
       "      <th>T033</th>\n",
       "      <th>T089</th>\n",
       "      <th>T090</th>\n",
       "      <th>T092</th>\n",
       "      <th>T135</th>\n",
       "      <th>T141</th>\n",
       "      <th>T142</th>\n",
       "      <th>T145</th>\n",
       "      <th>T146</th>\n",
       "      <th>T147</th>\n",
       "      <th>T149</th>\n",
       "      <th>T150</th>\n",
       "      <th>T151</th>\n",
       "      <th>T152</th>\n",
       "      <th>T154</th>\n",
       "      <th>T158</th>\n",
       "      <th>T162</th>\n",
       "      <th>T218</th>\n",
       "      <th>T220</th>\n",
       "      <th>T001</th>\n",
       "      <th>T003</th>\n",
       "      <th>T006</th>\n",
       "      <th>T008</th>\n",
       "      <th>T012</th>\n",
       "      <th>T034</th>\n",
       "      <th>T037</th>\n",
       "      <th>T040</th>\n",
       "      <th>T043</th>\n",
       "      <th>T047</th>\n",
       "      <th>T051</th>\n",
       "      <th>T085</th>\n",
       "      <th>T088</th>\n",
       "      <th>T161</th>\n",
       "      <th>T219</th>\n",
       "      <th>T013</th>\n",
       "      <th>T014</th>\n",
       "      <th>T018</th>\n",
       "      <th>T030</th>\n",
       "      <th>T084</th>\n",
       "      <th>T144</th>\n",
       "      <th>T160</th>\n",
       "      <th>T005</th>\n",
       "      <th>T017</th>\n",
       "      <th>T044</th>\n",
       "      <th>T095</th>\n",
       "      <th>T004</th>\n",
       "      <th>T035</th>\n",
       "      <th>T036</th>\n",
       "      <th>T039</th>\n",
       "      <th>T060</th>\n",
       "      <th>T061</th>\n",
       "      <th>T062</th>\n",
       "      <th>T065</th>\n",
       "      <th>T066</th>\n",
       "      <th>T067</th>\n",
       "      <th>T069</th>\n",
       "      <th>T070</th>\n",
       "      <th>T071</th>\n",
       "      <th>T073</th>\n",
       "      <th>T074</th>\n",
       "      <th>T075</th>\n",
       "      <th>T076</th>\n",
       "      <th>T077</th>\n",
       "      <th>T079</th>\n",
       "      <th>T080</th>\n",
       "      <th>T081</th>\n",
       "      <th>T082</th>\n",
       "      <th>T083</th>\n",
       "      <th>T114</th>\n",
       "      <th>T155</th>\n",
       "      <th>T063</th>\n",
       "      <th>T115</th>\n",
       "      <th>T138</th>\n",
       "      <th>T200</th>\n",
       "      <th>T206</th>\n",
       "      <th>T209</th>\n",
       "      <th>T212</th>\n",
       "      <th>T215</th>\n",
       "      <th>T107</th>\n",
       "      <th>T128</th>\n",
       "      <th>T072</th>\n",
       "      <th>T078</th>\n",
       "      <th>T097</th>\n",
       "      <th>T099</th>\n",
       "      <th>T100</th>\n",
       "      <th>T102</th>\n",
       "      <th>T103</th>\n",
       "      <th>T027</th>\n",
       "      <th>T156</th>\n",
       "      <th>T157</th>\n",
       "      <th>T221</th>\n",
       "      <th>T900</th>\n",
       "      <th>T903</th>\n",
       "      <th>T222</th>\n",
       "      <th>T223</th>\n",
       "      <th>T225</th>\n",
       "      <th>T227</th>\n",
       "      <th>T224</th>\n",
       "      <th>T226</th>\n",
       "      <th>T229</th>\n",
       "      <th>T230</th>\n",
       "      <th>T228</th>\n",
       "      <th>T232</th>\n",
       "      <th>T231</th>\n",
       "      <th>T235</th>\n",
       "      <th>T233</th>\n",
       "      <th>T236</th>\n",
       "      <th>T237</th>\n",
       "      <th>T238</th>\n",
       "      <th>T094B</th>\n",
       "      <th>T054C</th>\n",
       "      <th>CULEX PIPIENS/RESTUANS</th>\n",
       "      <th>CULEX RESTUANS</th>\n",
       "      <th>CULEX PIPIENS</th>\n",
       "      <th>CULEX SALINARIUS</th>\n",
       "      <th>CULEX TERRITANS</th>\n",
       "      <th>CULEX TARSALIS</th>\n",
       "      <th>CULEX ERRATICUS</th>\n",
       "    </tr>\n",
       "  </thead>\n",
       "  <tbody>\n",
       "  </tbody>\n",
       "</table>\n",
       "</div>"
      ],
      "text/plain": [
       "Empty DataFrame\n",
       "Columns: [Station, Date, Tmax, Tmin, Tavg, DewPoint, Heat, Cool, PrecipTotal, StnPressure, ResultDir, AvgSpeed, Block, Latitude, Longitude, NumMosquitos, WnvPresent, T002, T007, T015, T045, T046, T048, T049, T050, T054, T086, T091, T094, T096, T129, T143, T148, T153, T159, T009, T011, T016, T019, T025, T028, T031, T033, T089, T090, T092, T135, T141, T142, T145, T146, T147, T149, T150, T151, T152, T154, T158, T162, T218, T220, T001, T003, T006, T008, T012, T034, T037, T040, T043, T047, T051, T085, T088, T161, T219, T013, T014, T018, T030, T084, T144, T160, T005, T017, T044, T095, T004, T035, T036, T039, T060, T061, T062, T065, T066, T067, T069, T070, T071, ...]\n",
       "Index: []"
      ]
     },
     "execution_count": 430,
     "metadata": {},
     "output_type": "execute_result"
    }
   ],
   "source": [
    "import numpy as np\n",
    "pd.set_option('display.max_columns', 1000)\n",
    "train_weather.head(0)"
   ]
  },
  {
   "cell_type": "code",
   "execution_count": 431,
   "metadata": {
    "collapsed": false
   },
   "outputs": [],
   "source": [
    "X = train_weather[['Tmax', 'Tmin', 'Tavg', 'DewPoint', 'Heat', 'Cool', 'PrecipTotal', 'StnPressure', 'ResultDir', 'AvgSpeed', 'Block', 'Latitude', 'Longitude', 'T002', 'T007', 'T015', 'T045', 'T046', 'T048', 'T049', 'T050', 'T054', 'T086', 'T091', 'T094', 'T096', 'T129', 'T143', 'T148', 'T153', 'T159', 'T009', 'T011', 'T016', 'T019', 'T025', 'T028', 'T031', 'T033', 'T089', 'T090', 'T092', 'T135', 'T141', 'T142', 'T145', 'T146', 'T147', 'T149', 'T150', 'T151', 'T152', 'T154', 'T158', 'T162', 'T218', 'T220', 'T001', 'T003', 'T006', 'T008', 'T012', 'T034', 'T037', 'T040', 'T043', 'T047', 'T051', 'T085', 'T088', 'T161', 'T219', 'T013', 'T014', 'T018', 'T030', 'T084', 'T144', 'T160', 'T005', 'T017', 'T044', 'T095', 'T004', 'T035', 'T036', 'T039', 'T060', 'T061', 'T062', 'T065', 'T066', 'T067', 'T069', 'T070', 'T071', 'T073', 'T074', 'T075', 'T076', 'T077', 'T079', 'T080', 'T081', 'T082', 'T083', 'T114', 'T155', 'T063', 'T115', 'T138', 'T200', 'T206', 'T209', 'T212', 'T215', 'T107', 'T128', 'T072', 'T078', 'T097', 'T099', 'T100', 'T102', 'T103', 'T027', 'T156', 'T157', 'T221', 'T900', 'T903', 'T222', 'T223', 'T225', 'T227', 'T224', 'T226', 'T229', 'T230', 'T228', 'T232', 'T231', 'T235', 'T233', 'T236', 'T237', 'T238', 'T094B', 'T054C', 'CULEX PIPIENS/RESTUANS', 'CULEX RESTUANS', 'CULEX PIPIENS', 'CULEX SALINARIUS', 'CULEX TERRITANS', 'CULEX TARSALIS', 'CULEX ERRATICUS']]\n",
    "X_KNN_FElim = train_weather[['Tmax', 'Tmin', 'Tavg', 'DewPoint', 'Heat', 'PrecipTotal', 'Cool', 'StnPressure', 'ResultDir', 'AvgSpeed', 'Block', 'Latitude', 'Longitude', 'T002', 'T007', 'T015', 'T045', 'T046', 'T048', 'T049', 'T050', 'T054', 'T086', 'T091', 'T094', 'T096', 'T129', 'T143', 'T148', 'T153', 'T159', 'T009', 'T011', 'T016', 'T019', 'T025', 'T028', 'T031', 'T033', 'T089', 'T090', 'T092', 'T135', 'T141', 'T142', 'T145', 'T146', 'T147', 'T149', 'T150', 'T151', 'T152', 'T154', 'T158', 'T162', 'T218', 'T220', 'T001', 'T003', 'T006', 'T008', 'T012', 'T034', 'T037', 'T040', 'T043', 'T047', 'T051', 'T085', 'T088', 'T161', 'T219', 'T013', 'T014', 'T018', 'T030', 'T084', 'T144', 'T160', 'T005', 'T017', 'T044', 'T095', 'T004', 'T035', 'T036', 'T039', 'T060', 'T061', 'T062', 'T065', 'T066', 'T067', 'T069', 'T070', 'T071', 'T073', 'T074', 'T075', 'T076', 'T077', 'T079', 'T080', 'T081', 'T082', 'T083', 'T114', 'T155', 'T063', 'T115', 'T138', 'T200', 'T206', 'T209', 'T212', 'T215', 'T107', 'T128', 'T072', 'T078', 'T097', 'T099', 'T100', 'T102', 'T103', 'T027', 'T156', 'T157', 'T221', 'T900', 'T903', 'T222', 'T223', 'T225', 'T227', 'T224', 'T226', 'T229', 'T230', 'T228', 'T232', 'T231', 'T235', 'T233', 'T236', 'T237', 'T238', 'T094B', 'T054C', 'CULEX PIPIENS/RESTUANS', 'CULEX RESTUANS', 'CULEX PIPIENS']]\n"
   ]
  },
  {
   "cell_type": "code",
   "execution_count": 432,
   "metadata": {
    "collapsed": false
   },
   "outputs": [
    {
     "data": {
      "text/plain": [
       "0    0\n",
       "1    0\n",
       "2    0\n",
       "3    0\n",
       "4    0\n",
       "Name: WnvPresent, dtype: int64"
      ]
     },
     "execution_count": 432,
     "metadata": {},
     "output_type": "execute_result"
    }
   ],
   "source": [
    "y = train_weather.WnvPresent\n",
    "y.head()"
   ]
  },
  {
   "cell_type": "code",
   "execution_count": 450,
   "metadata": {
    "collapsed": false
   },
   "outputs": [
    {
     "data": {
      "text/plain": [
       "(21012, 150)"
      ]
     },
     "execution_count": 450,
     "metadata": {},
     "output_type": "execute_result"
    }
   ],
   "source": [
    "X_KNN_FElim[cols].shape"
   ]
  },
  {
   "cell_type": "code",
   "execution_count": 451,
   "metadata": {
    "collapsed": false
   },
   "outputs": [
    {
     "data": {
      "text/plain": [
       "(116293, 150)"
      ]
     },
     "execution_count": 451,
     "metadata": {},
     "output_type": "execute_result"
    }
   ],
   "source": [
    "test_weather[cols].shape"
   ]
  },
  {
   "cell_type": "code",
   "execution_count": 433,
   "metadata": {
    "collapsed": true
   },
   "outputs": [],
   "source": [
    "# from sklearn.model_selection import train_test_split #importing this from model_evaluation instead of cross_val\n",
    "# X_train, X_test, y_train, y_test = train_test_split(X_KNN_FElim,y, test_size=0.33) #and creating a train and test set using TTS"
   ]
  },
  {
   "cell_type": "code",
   "execution_count": 467,
   "metadata": {
    "collapsed": false
   },
   "outputs": [],
   "source": [
    "from sklearn.neighbors import KNeighborsClassifier #import KNeighborsClassifier\n",
    "knn = KNeighborsClassifier(n_neighbors = 5) #set my neighboour to be 1\n",
    "model = knn.fit(X_KNN_FElim[cols], y) #fit my train data\n",
    "predictions = model.predict(test_weather[cols])"
   ]
  },
  {
   "cell_type": "code",
   "execution_count": 401,
   "metadata": {
    "collapsed": true
   },
   "outputs": [],
   "source": [
    "# from sklearn.feature_selection import SelectKBest, SelectFpr, chi2, SelectPercentile, GenericUnivariateSelect, f_classif"
   ]
  },
  {
   "cell_type": "code",
   "execution_count": 402,
   "metadata": {
    "collapsed": false
   },
   "outputs": [],
   "source": [
    "# pd.options.display.max_rows = 999\n",
    "# cols = list(train_weather.columns)\n",
    "# skb_f = SelectKBest(f_classif, k=5)\n",
    "# # skb_f.fit(X, y)\n",
    "# # skb_chi2.fit(X, y)\n",
    "# pd.DataFrame([cols, list(skb_f.scores_)], index=['feature','f_classif']).T.sort_values('f_classif', ascending=False)"
   ]
  },
  {
   "cell_type": "code",
   "execution_count": 288,
   "metadata": {
    "collapsed": true
   },
   "outputs": [],
   "source": [
    "X = train_weather[['Tmax', 'Tmin', 'Tavg', 'DewPoint', 'Heat', 'Cool', 'PrecipTotal', 'StnPressure', 'ResultDir', 'AvgSpeed', 'Block', 'Latitude', 'Longitude', 'T002', 'T007', 'T015', 'T045', 'T046', 'T048', 'T049', 'T050', 'T054', 'T086', 'T091', 'T094', 'T096', 'T129', 'T143', 'T148', 'T153', 'T159', 'T009', 'T011', 'T016', 'T019', 'T025', 'T028', 'T031', 'T033', 'T089', 'T090', 'T092', 'T135', 'T141', 'T142', 'T145', 'T146', 'T147', 'T149', 'T150', 'T151', 'T152', 'T154', 'T158', 'T162', 'T218', 'T220', 'T001', 'T003', 'T006', 'T008', 'T012', 'T034', 'T037', 'T040', 'T043', 'T047', 'T051', 'T085', 'T088', 'T161', 'T219', 'T013', 'T014', 'T018', 'T030', 'T084', 'T144', 'T160', 'T005', 'T017', 'T044', 'T095', 'T004', 'T035', 'T036', 'T039', 'T060', 'T061', 'T062', 'T065', 'T066', 'T067', 'T069', 'T070', 'T071', 'T073', 'T074', 'T075', 'T076', 'T077', 'T079', 'T080', 'T081', 'T082', 'T083', 'T114', 'T155', 'T063', 'T115', 'T138', 'T200', 'T206', 'T209', 'T212', 'T215', 'T107', 'T128', 'T072', 'T078', 'T097', 'T099', 'T100', 'T102', 'T103', 'T027', 'T156', 'T157', 'T221', 'T900', 'T903', 'T222', 'T223', 'T225', 'T227', 'T224', 'T226', 'T229', 'T230', 'T228', 'T232', 'T231', 'T235', 'T233', 'T236', 'T237', 'T238', 'T094B', 'T054C', 'CULEX PIPIENS/RESTUANS', 'CULEX RESTUANS', 'CULEX PIPIENS', 'CULEX SALINARIUS', 'CULEX TERRITANS', 'CULEX TARSALIS', 'CULEX ERRATICUS']]\n"
   ]
  },
  {
   "cell_type": "code",
   "execution_count": 377,
   "metadata": {
    "collapsed": true
   },
   "outputs": [],
   "source": [
    "# X_KNN_FSelect = train_weather[['T094B', 'T238', 'Tmin','Tmax', 'DewPoint', 'Tavg', 'Station', 'T027', 'CULEX PIPIENS/RESTUANS', 'T091', 'T162', 'StnPressure', 'AvgSpeed', 'T228', 'Latitude', 'T218', 'T083', 'T900', 'T002', 'T155', 'T054C', 'T054', 'T221', 'T230', 'T084', 'T085', 'T227', 'T088', 'T094', 'T153']]   "
   ]
  },
  {
   "cell_type": "code",
   "execution_count": 403,
   "metadata": {
    "collapsed": true
   },
   "outputs": [],
   "source": [
    "# X_KNN_FElim = train_weather[['Tmax', 'Tmin', 'Tavg', 'DewPoint', 'Heat', 'PrecipTotal', 'Cool', 'StnPressure', 'ResultDir', 'AvgSpeed', 'Block', 'Latitude', 'Longitude', 'T002', 'T007', 'T015', 'T045', 'T046', 'T048', 'T049', 'T050', 'T054', 'T086', 'T091', 'T094', 'T096', 'T129', 'T143', 'T148', 'T153', 'T159', 'T009', 'T011', 'T016', 'T019', 'T025', 'T028', 'T031', 'T033', 'T089', 'T090', 'T092', 'T135', 'T141', 'T142', 'T145', 'T146', 'T147', 'T149', 'T150', 'T151', 'T152', 'T154', 'T158', 'T162', 'T218', 'T220', 'T001', 'T003', 'T006', 'T008', 'T012', 'T034', 'T037', 'T040', 'T043', 'T047', 'T051', 'T085', 'T088', 'T161', 'T219', 'T013', 'T014', 'T018', 'T030', 'T084', 'T144', 'T160', 'T005', 'T017', 'T044', 'T095', 'T004', 'T035', 'T036', 'T039', 'T060', 'T061', 'T062', 'T065', 'T066', 'T067', 'T069', 'T070', 'T071', 'T073', 'T074', 'T075', 'T076', 'T077', 'T079', 'T080', 'T081', 'T082', 'T083', 'T114', 'T155', 'T063', 'T115', 'T138', 'T200', 'T206', 'T209', 'T212', 'T215', 'T107', 'T128', 'T072', 'T078', 'T097', 'T099', 'T100', 'T102', 'T103', 'T027', 'T156', 'T157', 'T221', 'T900', 'T903', 'T222', 'T223', 'T225', 'T227', 'T224', 'T226', 'T229', 'T230', 'T228', 'T232', 'T231', 'T235', 'T233', 'T236', 'T237', 'T238', 'T094B', 'T054C', 'CULEX PIPIENS/RESTUANS', 'CULEX RESTUANS', 'CULEX PIPIENS']]\n"
   ]
  },
  {
   "cell_type": "code",
   "execution_count": 446,
   "metadata": {
    "collapsed": true
   },
   "outputs": [],
   "source": [
    "from sklearn.metrics import roc_auc_score"
   ]
  },
  {
   "cell_type": "code",
   "execution_count": 447,
   "metadata": {
    "collapsed": false
   },
   "outputs": [
    {
     "ename": "ValueError",
     "evalue": "Found input variables with inconsistent numbers of samples: [6934, 116293]",
     "output_type": "error",
     "traceback": [
      "\u001b[0;31m---------------------------------------------------------------------------\u001b[0m",
      "\u001b[0;31mValueError\u001b[0m                                Traceback (most recent call last)",
      "\u001b[0;32m<ipython-input-447-27748e4ac1e5>\u001b[0m in \u001b[0;36m<module>\u001b[0;34m()\u001b[0m\n\u001b[0;32m----> 1\u001b[0;31m \u001b[0mroc_auc\u001b[0m\u001b[0;34m=\u001b[0m \u001b[0mroc_auc_score\u001b[0m\u001b[0;34m(\u001b[0m\u001b[0my_test\u001b[0m\u001b[0;34m,\u001b[0m \u001b[0mpredictions\u001b[0m\u001b[0;34m)\u001b[0m\u001b[0;34m\u001b[0m\u001b[0m\n\u001b[0m",
      "\u001b[0;32m//anaconda/lib/python2.7/site-packages/sklearn/metrics/ranking.pyc\u001b[0m in \u001b[0;36mroc_auc_score\u001b[0;34m(y_true, y_score, average, sample_weight)\u001b[0m\n\u001b[1;32m    258\u001b[0m     return _average_binary_score(\n\u001b[1;32m    259\u001b[0m         \u001b[0m_binary_roc_auc_score\u001b[0m\u001b[0;34m,\u001b[0m \u001b[0my_true\u001b[0m\u001b[0;34m,\u001b[0m \u001b[0my_score\u001b[0m\u001b[0;34m,\u001b[0m \u001b[0maverage\u001b[0m\u001b[0;34m,\u001b[0m\u001b[0;34m\u001b[0m\u001b[0m\n\u001b[0;32m--> 260\u001b[0;31m         sample_weight=sample_weight)\n\u001b[0m\u001b[1;32m    261\u001b[0m \u001b[0;34m\u001b[0m\u001b[0m\n\u001b[1;32m    262\u001b[0m \u001b[0;34m\u001b[0m\u001b[0m\n",
      "\u001b[0;32m//anaconda/lib/python2.7/site-packages/sklearn/metrics/base.pyc\u001b[0m in \u001b[0;36m_average_binary_score\u001b[0;34m(binary_metric, y_true, y_score, average, sample_weight)\u001b[0m\n\u001b[1;32m     82\u001b[0m \u001b[0;34m\u001b[0m\u001b[0m\n\u001b[1;32m     83\u001b[0m     \u001b[0;32mif\u001b[0m \u001b[0my_type\u001b[0m \u001b[0;34m==\u001b[0m \u001b[0;34m\"binary\"\u001b[0m\u001b[0;34m:\u001b[0m\u001b[0;34m\u001b[0m\u001b[0m\n\u001b[0;32m---> 84\u001b[0;31m         \u001b[0;32mreturn\u001b[0m \u001b[0mbinary_metric\u001b[0m\u001b[0;34m(\u001b[0m\u001b[0my_true\u001b[0m\u001b[0;34m,\u001b[0m \u001b[0my_score\u001b[0m\u001b[0;34m,\u001b[0m \u001b[0msample_weight\u001b[0m\u001b[0;34m=\u001b[0m\u001b[0msample_weight\u001b[0m\u001b[0;34m)\u001b[0m\u001b[0;34m\u001b[0m\u001b[0m\n\u001b[0m\u001b[1;32m     85\u001b[0m \u001b[0;34m\u001b[0m\u001b[0m\n\u001b[1;32m     86\u001b[0m     \u001b[0mcheck_consistent_length\u001b[0m\u001b[0;34m(\u001b[0m\u001b[0my_true\u001b[0m\u001b[0;34m,\u001b[0m \u001b[0my_score\u001b[0m\u001b[0;34m,\u001b[0m \u001b[0msample_weight\u001b[0m\u001b[0;34m)\u001b[0m\u001b[0;34m\u001b[0m\u001b[0m\n",
      "\u001b[0;32m//anaconda/lib/python2.7/site-packages/sklearn/metrics/ranking.pyc\u001b[0m in \u001b[0;36m_binary_roc_auc_score\u001b[0;34m(y_true, y_score, sample_weight)\u001b[0m\n\u001b[1;32m    253\u001b[0m \u001b[0;34m\u001b[0m\u001b[0m\n\u001b[1;32m    254\u001b[0m         fpr, tpr, tresholds = roc_curve(y_true, y_score,\n\u001b[0;32m--> 255\u001b[0;31m                                         sample_weight=sample_weight)\n\u001b[0m\u001b[1;32m    256\u001b[0m         \u001b[0;32mreturn\u001b[0m \u001b[0mauc\u001b[0m\u001b[0;34m(\u001b[0m\u001b[0mfpr\u001b[0m\u001b[0;34m,\u001b[0m \u001b[0mtpr\u001b[0m\u001b[0;34m,\u001b[0m \u001b[0mreorder\u001b[0m\u001b[0;34m=\u001b[0m\u001b[0mTrue\u001b[0m\u001b[0;34m)\u001b[0m\u001b[0;34m\u001b[0m\u001b[0m\n\u001b[1;32m    257\u001b[0m \u001b[0;34m\u001b[0m\u001b[0m\n",
      "\u001b[0;32m//anaconda/lib/python2.7/site-packages/sklearn/metrics/ranking.pyc\u001b[0m in \u001b[0;36mroc_curve\u001b[0;34m(y_true, y_score, pos_label, sample_weight, drop_intermediate)\u001b[0m\n\u001b[1;32m    503\u001b[0m     \"\"\"\n\u001b[1;32m    504\u001b[0m     fps, tps, thresholds = _binary_clf_curve(\n\u001b[0;32m--> 505\u001b[0;31m         y_true, y_score, pos_label=pos_label, sample_weight=sample_weight)\n\u001b[0m\u001b[1;32m    506\u001b[0m \u001b[0;34m\u001b[0m\u001b[0m\n\u001b[1;32m    507\u001b[0m     \u001b[0;31m# Attempt to drop thresholds corresponding to points in between and\u001b[0m\u001b[0;34m\u001b[0m\u001b[0;34m\u001b[0m\u001b[0m\n",
      "\u001b[0;32m//anaconda/lib/python2.7/site-packages/sklearn/metrics/ranking.pyc\u001b[0m in \u001b[0;36m_binary_clf_curve\u001b[0;34m(y_true, y_score, pos_label, sample_weight)\u001b[0m\n\u001b[1;32m    295\u001b[0m         \u001b[0mDecreasing\u001b[0m \u001b[0mscore\u001b[0m \u001b[0mvalues\u001b[0m\u001b[0;34m.\u001b[0m\u001b[0;34m\u001b[0m\u001b[0m\n\u001b[1;32m    296\u001b[0m     \"\"\"\n\u001b[0;32m--> 297\u001b[0;31m     \u001b[0mcheck_consistent_length\u001b[0m\u001b[0;34m(\u001b[0m\u001b[0my_true\u001b[0m\u001b[0;34m,\u001b[0m \u001b[0my_score\u001b[0m\u001b[0;34m)\u001b[0m\u001b[0;34m\u001b[0m\u001b[0m\n\u001b[0m\u001b[1;32m    298\u001b[0m     \u001b[0my_true\u001b[0m \u001b[0;34m=\u001b[0m \u001b[0mcolumn_or_1d\u001b[0m\u001b[0;34m(\u001b[0m\u001b[0my_true\u001b[0m\u001b[0;34m)\u001b[0m\u001b[0;34m\u001b[0m\u001b[0m\n\u001b[1;32m    299\u001b[0m     \u001b[0my_score\u001b[0m \u001b[0;34m=\u001b[0m \u001b[0mcolumn_or_1d\u001b[0m\u001b[0;34m(\u001b[0m\u001b[0my_score\u001b[0m\u001b[0;34m)\u001b[0m\u001b[0;34m\u001b[0m\u001b[0m\n",
      "\u001b[0;32m//anaconda/lib/python2.7/site-packages/sklearn/utils/validation.pyc\u001b[0m in \u001b[0;36mcheck_consistent_length\u001b[0;34m(*arrays)\u001b[0m\n\u001b[1;32m    179\u001b[0m     \u001b[0;32mif\u001b[0m \u001b[0mlen\u001b[0m\u001b[0;34m(\u001b[0m\u001b[0muniques\u001b[0m\u001b[0;34m)\u001b[0m \u001b[0;34m>\u001b[0m \u001b[0;36m1\u001b[0m\u001b[0;34m:\u001b[0m\u001b[0;34m\u001b[0m\u001b[0m\n\u001b[1;32m    180\u001b[0m         raise ValueError(\"Found input variables with inconsistent numbers of\"\n\u001b[0;32m--> 181\u001b[0;31m                          \" samples: %r\" % [int(l) for l in lengths])\n\u001b[0m\u001b[1;32m    182\u001b[0m \u001b[0;34m\u001b[0m\u001b[0m\n\u001b[1;32m    183\u001b[0m \u001b[0;34m\u001b[0m\u001b[0m\n",
      "\u001b[0;31mValueError\u001b[0m: Found input variables with inconsistent numbers of samples: [6934, 116293]"
     ]
    }
   ],
   "source": [
    "roc_auc= roc_auc_score(y_test, predictions)"
   ]
  },
  {
   "cell_type": "code",
   "execution_count": 406,
   "metadata": {
    "collapsed": false
   },
   "outputs": [
    {
     "data": {
      "text/plain": [
       "0.9015500025181945"
      ]
     },
     "execution_count": 406,
     "metadata": {},
     "output_type": "execute_result"
    }
   ],
   "source": [
    "roc_auc"
   ]
  },
  {
   "cell_type": "code",
   "execution_count": 407,
   "metadata": {
    "collapsed": false
   },
   "outputs": [
    {
     "data": {
      "text/plain": [
       "0.97471231709049577"
      ]
     },
     "execution_count": 407,
     "metadata": {},
     "output_type": "execute_result"
    }
   ],
   "source": [
    "knn.score(X_train, y_train) #this is really good."
   ]
  },
  {
   "cell_type": "code",
   "execution_count": 408,
   "metadata": {
    "collapsed": false
   },
   "outputs": [
    {
     "ename": "KeyError",
     "evalue": "\"['T001' 'T054C' 'CULEX ERRATICUS'] not in index\"",
     "output_type": "error",
     "traceback": [
      "\u001b[0;31m---------------------------------------------------------------------------\u001b[0m",
      "\u001b[0;31mKeyError\u001b[0m                                  Traceback (most recent call last)",
      "\u001b[0;32m<ipython-input-408-d2efec048f16>\u001b[0m in \u001b[0;36m<module>\u001b[0;34m()\u001b[0m\n\u001b[1;32m      1\u001b[0m \u001b[0;31m# FOR KAGGLE:\u001b[0m\u001b[0;34m\u001b[0m\u001b[0;34m\u001b[0m\u001b[0m\n\u001b[0;32m----> 2\u001b[0;31m \u001b[0mX_test\u001b[0m \u001b[0;34m=\u001b[0m \u001b[0mtest_weather\u001b[0m\u001b[0;34m[\u001b[0m\u001b[0;34m[\u001b[0m\u001b[0;34m'Tmax'\u001b[0m\u001b[0;34m,\u001b[0m \u001b[0;34m'Tmin'\u001b[0m\u001b[0;34m,\u001b[0m \u001b[0;34m'Tavg'\u001b[0m\u001b[0;34m,\u001b[0m \u001b[0;34m'DewPoint'\u001b[0m\u001b[0;34m,\u001b[0m \u001b[0;34m'Heat'\u001b[0m\u001b[0;34m,\u001b[0m \u001b[0;34m'Cool'\u001b[0m\u001b[0;34m,\u001b[0m \u001b[0;34m'PrecipTotal'\u001b[0m\u001b[0;34m,\u001b[0m \u001b[0;34m'StnPressure'\u001b[0m\u001b[0;34m,\u001b[0m \u001b[0;34m'ResultDir'\u001b[0m\u001b[0;34m,\u001b[0m \u001b[0;34m'AvgSpeed'\u001b[0m\u001b[0;34m,\u001b[0m \u001b[0;34m'Block'\u001b[0m\u001b[0;34m,\u001b[0m \u001b[0;34m'Latitude'\u001b[0m\u001b[0;34m,\u001b[0m \u001b[0;34m'Longitude'\u001b[0m\u001b[0;34m,\u001b[0m \u001b[0;34m'T002'\u001b[0m\u001b[0;34m,\u001b[0m \u001b[0;34m'T007'\u001b[0m\u001b[0;34m,\u001b[0m \u001b[0;34m'T015'\u001b[0m\u001b[0;34m,\u001b[0m \u001b[0;34m'T045'\u001b[0m\u001b[0;34m,\u001b[0m \u001b[0;34m'T046'\u001b[0m\u001b[0;34m,\u001b[0m \u001b[0;34m'T048'\u001b[0m\u001b[0;34m,\u001b[0m \u001b[0;34m'T049'\u001b[0m\u001b[0;34m,\u001b[0m \u001b[0;34m'T050'\u001b[0m\u001b[0;34m,\u001b[0m \u001b[0;34m'T054'\u001b[0m\u001b[0;34m,\u001b[0m \u001b[0;34m'T086'\u001b[0m\u001b[0;34m,\u001b[0m \u001b[0;34m'T091'\u001b[0m\u001b[0;34m,\u001b[0m \u001b[0;34m'T094'\u001b[0m\u001b[0;34m,\u001b[0m \u001b[0;34m'T096'\u001b[0m\u001b[0;34m,\u001b[0m \u001b[0;34m'T129'\u001b[0m\u001b[0;34m,\u001b[0m \u001b[0;34m'T143'\u001b[0m\u001b[0;34m,\u001b[0m \u001b[0;34m'T148'\u001b[0m\u001b[0;34m,\u001b[0m \u001b[0;34m'T153'\u001b[0m\u001b[0;34m,\u001b[0m \u001b[0;34m'T159'\u001b[0m\u001b[0;34m,\u001b[0m \u001b[0;34m'T009'\u001b[0m\u001b[0;34m,\u001b[0m \u001b[0;34m'T011'\u001b[0m\u001b[0;34m,\u001b[0m \u001b[0;34m'T016'\u001b[0m\u001b[0;34m,\u001b[0m \u001b[0;34m'T019'\u001b[0m\u001b[0;34m,\u001b[0m \u001b[0;34m'T025'\u001b[0m\u001b[0;34m,\u001b[0m \u001b[0;34m'T028'\u001b[0m\u001b[0;34m,\u001b[0m \u001b[0;34m'T031'\u001b[0m\u001b[0;34m,\u001b[0m \u001b[0;34m'T033'\u001b[0m\u001b[0;34m,\u001b[0m \u001b[0;34m'T089'\u001b[0m\u001b[0;34m,\u001b[0m \u001b[0;34m'T090'\u001b[0m\u001b[0;34m,\u001b[0m \u001b[0;34m'T092'\u001b[0m\u001b[0;34m,\u001b[0m \u001b[0;34m'T135'\u001b[0m\u001b[0;34m,\u001b[0m \u001b[0;34m'T141'\u001b[0m\u001b[0;34m,\u001b[0m \u001b[0;34m'T142'\u001b[0m\u001b[0;34m,\u001b[0m \u001b[0;34m'T145'\u001b[0m\u001b[0;34m,\u001b[0m \u001b[0;34m'T146'\u001b[0m\u001b[0;34m,\u001b[0m \u001b[0;34m'T147'\u001b[0m\u001b[0;34m,\u001b[0m \u001b[0;34m'T149'\u001b[0m\u001b[0;34m,\u001b[0m \u001b[0;34m'T150'\u001b[0m\u001b[0;34m,\u001b[0m \u001b[0;34m'T151'\u001b[0m\u001b[0;34m,\u001b[0m \u001b[0;34m'T152'\u001b[0m\u001b[0;34m,\u001b[0m \u001b[0;34m'T154'\u001b[0m\u001b[0;34m,\u001b[0m \u001b[0;34m'T158'\u001b[0m\u001b[0;34m,\u001b[0m \u001b[0;34m'T162'\u001b[0m\u001b[0;34m,\u001b[0m \u001b[0;34m'T218'\u001b[0m\u001b[0;34m,\u001b[0m \u001b[0;34m'T220'\u001b[0m\u001b[0;34m,\u001b[0m \u001b[0;34m'T001'\u001b[0m\u001b[0;34m,\u001b[0m \u001b[0;34m'T003'\u001b[0m\u001b[0;34m,\u001b[0m \u001b[0;34m'T006'\u001b[0m\u001b[0;34m,\u001b[0m \u001b[0;34m'T008'\u001b[0m\u001b[0;34m,\u001b[0m \u001b[0;34m'T012'\u001b[0m\u001b[0;34m,\u001b[0m \u001b[0;34m'T034'\u001b[0m\u001b[0;34m,\u001b[0m \u001b[0;34m'T037'\u001b[0m\u001b[0;34m,\u001b[0m \u001b[0;34m'T040'\u001b[0m\u001b[0;34m,\u001b[0m \u001b[0;34m'T043'\u001b[0m\u001b[0;34m,\u001b[0m \u001b[0;34m'T047'\u001b[0m\u001b[0;34m,\u001b[0m \u001b[0;34m'T051'\u001b[0m\u001b[0;34m,\u001b[0m \u001b[0;34m'T085'\u001b[0m\u001b[0;34m,\u001b[0m \u001b[0;34m'T088'\u001b[0m\u001b[0;34m,\u001b[0m \u001b[0;34m'T161'\u001b[0m\u001b[0;34m,\u001b[0m \u001b[0;34m'T219'\u001b[0m\u001b[0;34m,\u001b[0m \u001b[0;34m'T013'\u001b[0m\u001b[0;34m,\u001b[0m \u001b[0;34m'T014'\u001b[0m\u001b[0;34m,\u001b[0m \u001b[0;34m'T018'\u001b[0m\u001b[0;34m,\u001b[0m \u001b[0;34m'T030'\u001b[0m\u001b[0;34m,\u001b[0m \u001b[0;34m'T084'\u001b[0m\u001b[0;34m,\u001b[0m \u001b[0;34m'T144'\u001b[0m\u001b[0;34m,\u001b[0m \u001b[0;34m'T160'\u001b[0m\u001b[0;34m,\u001b[0m \u001b[0;34m'T005'\u001b[0m\u001b[0;34m,\u001b[0m \u001b[0;34m'T017'\u001b[0m\u001b[0;34m,\u001b[0m \u001b[0;34m'T044'\u001b[0m\u001b[0;34m,\u001b[0m \u001b[0;34m'T095'\u001b[0m\u001b[0;34m,\u001b[0m \u001b[0;34m'T004'\u001b[0m\u001b[0;34m,\u001b[0m \u001b[0;34m'T035'\u001b[0m\u001b[0;34m,\u001b[0m \u001b[0;34m'T036'\u001b[0m\u001b[0;34m,\u001b[0m \u001b[0;34m'T039'\u001b[0m\u001b[0;34m,\u001b[0m \u001b[0;34m'T060'\u001b[0m\u001b[0;34m,\u001b[0m \u001b[0;34m'T061'\u001b[0m\u001b[0;34m,\u001b[0m \u001b[0;34m'T062'\u001b[0m\u001b[0;34m,\u001b[0m \u001b[0;34m'T065'\u001b[0m\u001b[0;34m,\u001b[0m \u001b[0;34m'T066'\u001b[0m\u001b[0;34m,\u001b[0m \u001b[0;34m'T067'\u001b[0m\u001b[0;34m,\u001b[0m \u001b[0;34m'T069'\u001b[0m\u001b[0;34m,\u001b[0m \u001b[0;34m'T070'\u001b[0m\u001b[0;34m,\u001b[0m \u001b[0;34m'T071'\u001b[0m\u001b[0;34m,\u001b[0m \u001b[0;34m'T073'\u001b[0m\u001b[0;34m,\u001b[0m \u001b[0;34m'T074'\u001b[0m\u001b[0;34m,\u001b[0m \u001b[0;34m'T075'\u001b[0m\u001b[0;34m,\u001b[0m \u001b[0;34m'T076'\u001b[0m\u001b[0;34m,\u001b[0m \u001b[0;34m'T077'\u001b[0m\u001b[0;34m,\u001b[0m \u001b[0;34m'T079'\u001b[0m\u001b[0;34m,\u001b[0m \u001b[0;34m'T080'\u001b[0m\u001b[0;34m,\u001b[0m \u001b[0;34m'T081'\u001b[0m\u001b[0;34m,\u001b[0m \u001b[0;34m'T082'\u001b[0m\u001b[0;34m,\u001b[0m \u001b[0;34m'T083'\u001b[0m\u001b[0;34m,\u001b[0m \u001b[0;34m'T114'\u001b[0m\u001b[0;34m,\u001b[0m \u001b[0;34m'T155'\u001b[0m\u001b[0;34m,\u001b[0m \u001b[0;34m'T063'\u001b[0m\u001b[0;34m,\u001b[0m \u001b[0;34m'T115'\u001b[0m\u001b[0;34m,\u001b[0m \u001b[0;34m'T138'\u001b[0m\u001b[0;34m,\u001b[0m \u001b[0;34m'T200'\u001b[0m\u001b[0;34m,\u001b[0m \u001b[0;34m'T206'\u001b[0m\u001b[0;34m,\u001b[0m \u001b[0;34m'T209'\u001b[0m\u001b[0;34m,\u001b[0m \u001b[0;34m'T212'\u001b[0m\u001b[0;34m,\u001b[0m \u001b[0;34m'T215'\u001b[0m\u001b[0;34m,\u001b[0m \u001b[0;34m'T107'\u001b[0m\u001b[0;34m,\u001b[0m \u001b[0;34m'T128'\u001b[0m\u001b[0;34m,\u001b[0m \u001b[0;34m'T072'\u001b[0m\u001b[0;34m,\u001b[0m \u001b[0;34m'T078'\u001b[0m\u001b[0;34m,\u001b[0m \u001b[0;34m'T097'\u001b[0m\u001b[0;34m,\u001b[0m \u001b[0;34m'T099'\u001b[0m\u001b[0;34m,\u001b[0m \u001b[0;34m'T100'\u001b[0m\u001b[0;34m,\u001b[0m \u001b[0;34m'T102'\u001b[0m\u001b[0;34m,\u001b[0m \u001b[0;34m'T103'\u001b[0m\u001b[0;34m,\u001b[0m \u001b[0;34m'T027'\u001b[0m\u001b[0;34m,\u001b[0m \u001b[0;34m'T156'\u001b[0m\u001b[0;34m,\u001b[0m \u001b[0;34m'T157'\u001b[0m\u001b[0;34m,\u001b[0m \u001b[0;34m'T221'\u001b[0m\u001b[0;34m,\u001b[0m \u001b[0;34m'T900'\u001b[0m\u001b[0;34m,\u001b[0m \u001b[0;34m'T903'\u001b[0m\u001b[0;34m,\u001b[0m \u001b[0;34m'T222'\u001b[0m\u001b[0;34m,\u001b[0m \u001b[0;34m'T223'\u001b[0m\u001b[0;34m,\u001b[0m \u001b[0;34m'T225'\u001b[0m\u001b[0;34m,\u001b[0m \u001b[0;34m'T227'\u001b[0m\u001b[0;34m,\u001b[0m \u001b[0;34m'T224'\u001b[0m\u001b[0;34m,\u001b[0m \u001b[0;34m'T226'\u001b[0m\u001b[0;34m,\u001b[0m \u001b[0;34m'T229'\u001b[0m\u001b[0;34m,\u001b[0m \u001b[0;34m'T230'\u001b[0m\u001b[0;34m,\u001b[0m \u001b[0;34m'T228'\u001b[0m\u001b[0;34m,\u001b[0m \u001b[0;34m'T232'\u001b[0m\u001b[0;34m,\u001b[0m \u001b[0;34m'T231'\u001b[0m\u001b[0;34m,\u001b[0m \u001b[0;34m'T235'\u001b[0m\u001b[0;34m,\u001b[0m \u001b[0;34m'T233'\u001b[0m\u001b[0;34m,\u001b[0m \u001b[0;34m'T236'\u001b[0m\u001b[0;34m,\u001b[0m \u001b[0;34m'T237'\u001b[0m\u001b[0;34m,\u001b[0m \u001b[0;34m'T238'\u001b[0m\u001b[0;34m,\u001b[0m \u001b[0;34m'T094B'\u001b[0m\u001b[0;34m,\u001b[0m \u001b[0;34m'T054C'\u001b[0m\u001b[0;34m,\u001b[0m \u001b[0;34m'CULEX PIPIENS/RESTUANS'\u001b[0m\u001b[0;34m,\u001b[0m \u001b[0;34m'CULEX RESTUANS'\u001b[0m\u001b[0;34m,\u001b[0m \u001b[0;34m'CULEX PIPIENS'\u001b[0m\u001b[0;34m,\u001b[0m \u001b[0;34m'CULEX SALINARIUS'\u001b[0m\u001b[0;34m,\u001b[0m \u001b[0;34m'CULEX TERRITANS'\u001b[0m\u001b[0;34m,\u001b[0m \u001b[0;34m'CULEX TARSALIS'\u001b[0m\u001b[0;34m,\u001b[0m \u001b[0;34m'CULEX ERRATICUS'\u001b[0m\u001b[0;34m]\u001b[0m\u001b[0;34m]\u001b[0m\u001b[0;34m\u001b[0m\u001b[0m\n\u001b[0m",
      "\u001b[0;32m//anaconda/lib/python2.7/site-packages/pandas/core/frame.pyc\u001b[0m in \u001b[0;36m__getitem__\u001b[0;34m(self, key)\u001b[0m\n\u001b[1;32m   2051\u001b[0m         \u001b[0;32mif\u001b[0m \u001b[0misinstance\u001b[0m\u001b[0;34m(\u001b[0m\u001b[0mkey\u001b[0m\u001b[0;34m,\u001b[0m \u001b[0;34m(\u001b[0m\u001b[0mSeries\u001b[0m\u001b[0;34m,\u001b[0m \u001b[0mnp\u001b[0m\u001b[0;34m.\u001b[0m\u001b[0mndarray\u001b[0m\u001b[0;34m,\u001b[0m \u001b[0mIndex\u001b[0m\u001b[0;34m,\u001b[0m \u001b[0mlist\u001b[0m\u001b[0;34m)\u001b[0m\u001b[0;34m)\u001b[0m\u001b[0;34m:\u001b[0m\u001b[0;34m\u001b[0m\u001b[0m\n\u001b[1;32m   2052\u001b[0m             \u001b[0;31m# either boolean or fancy integer index\u001b[0m\u001b[0;34m\u001b[0m\u001b[0;34m\u001b[0m\u001b[0m\n\u001b[0;32m-> 2053\u001b[0;31m             \u001b[0;32mreturn\u001b[0m \u001b[0mself\u001b[0m\u001b[0;34m.\u001b[0m\u001b[0m_getitem_array\u001b[0m\u001b[0;34m(\u001b[0m\u001b[0mkey\u001b[0m\u001b[0;34m)\u001b[0m\u001b[0;34m\u001b[0m\u001b[0m\n\u001b[0m\u001b[1;32m   2054\u001b[0m         \u001b[0;32melif\u001b[0m \u001b[0misinstance\u001b[0m\u001b[0;34m(\u001b[0m\u001b[0mkey\u001b[0m\u001b[0;34m,\u001b[0m \u001b[0mDataFrame\u001b[0m\u001b[0;34m)\u001b[0m\u001b[0;34m:\u001b[0m\u001b[0;34m\u001b[0m\u001b[0m\n\u001b[1;32m   2055\u001b[0m             \u001b[0;32mreturn\u001b[0m \u001b[0mself\u001b[0m\u001b[0;34m.\u001b[0m\u001b[0m_getitem_frame\u001b[0m\u001b[0;34m(\u001b[0m\u001b[0mkey\u001b[0m\u001b[0;34m)\u001b[0m\u001b[0;34m\u001b[0m\u001b[0m\n",
      "\u001b[0;32m//anaconda/lib/python2.7/site-packages/pandas/core/frame.pyc\u001b[0m in \u001b[0;36m_getitem_array\u001b[0;34m(self, key)\u001b[0m\n\u001b[1;32m   2095\u001b[0m             \u001b[0;32mreturn\u001b[0m \u001b[0mself\u001b[0m\u001b[0;34m.\u001b[0m\u001b[0mtake\u001b[0m\u001b[0;34m(\u001b[0m\u001b[0mindexer\u001b[0m\u001b[0;34m,\u001b[0m \u001b[0maxis\u001b[0m\u001b[0;34m=\u001b[0m\u001b[0;36m0\u001b[0m\u001b[0;34m,\u001b[0m \u001b[0mconvert\u001b[0m\u001b[0;34m=\u001b[0m\u001b[0mFalse\u001b[0m\u001b[0;34m)\u001b[0m\u001b[0;34m\u001b[0m\u001b[0m\n\u001b[1;32m   2096\u001b[0m         \u001b[0;32melse\u001b[0m\u001b[0;34m:\u001b[0m\u001b[0;34m\u001b[0m\u001b[0m\n\u001b[0;32m-> 2097\u001b[0;31m             \u001b[0mindexer\u001b[0m \u001b[0;34m=\u001b[0m \u001b[0mself\u001b[0m\u001b[0;34m.\u001b[0m\u001b[0mix\u001b[0m\u001b[0;34m.\u001b[0m\u001b[0m_convert_to_indexer\u001b[0m\u001b[0;34m(\u001b[0m\u001b[0mkey\u001b[0m\u001b[0;34m,\u001b[0m \u001b[0maxis\u001b[0m\u001b[0;34m=\u001b[0m\u001b[0;36m1\u001b[0m\u001b[0;34m)\u001b[0m\u001b[0;34m\u001b[0m\u001b[0m\n\u001b[0m\u001b[1;32m   2098\u001b[0m             \u001b[0;32mreturn\u001b[0m \u001b[0mself\u001b[0m\u001b[0;34m.\u001b[0m\u001b[0mtake\u001b[0m\u001b[0;34m(\u001b[0m\u001b[0mindexer\u001b[0m\u001b[0;34m,\u001b[0m \u001b[0maxis\u001b[0m\u001b[0;34m=\u001b[0m\u001b[0;36m1\u001b[0m\u001b[0;34m,\u001b[0m \u001b[0mconvert\u001b[0m\u001b[0;34m=\u001b[0m\u001b[0mTrue\u001b[0m\u001b[0;34m)\u001b[0m\u001b[0;34m\u001b[0m\u001b[0m\n\u001b[1;32m   2099\u001b[0m \u001b[0;34m\u001b[0m\u001b[0m\n",
      "\u001b[0;32m//anaconda/lib/python2.7/site-packages/pandas/core/indexing.pyc\u001b[0m in \u001b[0;36m_convert_to_indexer\u001b[0;34m(self, obj, axis, is_setter)\u001b[0m\n\u001b[1;32m   1228\u001b[0m                 \u001b[0mmask\u001b[0m \u001b[0;34m=\u001b[0m \u001b[0mcheck\u001b[0m \u001b[0;34m==\u001b[0m \u001b[0;34m-\u001b[0m\u001b[0;36m1\u001b[0m\u001b[0;34m\u001b[0m\u001b[0m\n\u001b[1;32m   1229\u001b[0m                 \u001b[0;32mif\u001b[0m \u001b[0mmask\u001b[0m\u001b[0;34m.\u001b[0m\u001b[0many\u001b[0m\u001b[0;34m(\u001b[0m\u001b[0;34m)\u001b[0m\u001b[0;34m:\u001b[0m\u001b[0;34m\u001b[0m\u001b[0m\n\u001b[0;32m-> 1230\u001b[0;31m                     \u001b[0;32mraise\u001b[0m \u001b[0mKeyError\u001b[0m\u001b[0;34m(\u001b[0m\u001b[0;34m'%s not in index'\u001b[0m \u001b[0;34m%\u001b[0m \u001b[0mobjarr\u001b[0m\u001b[0;34m[\u001b[0m\u001b[0mmask\u001b[0m\u001b[0;34m]\u001b[0m\u001b[0;34m)\u001b[0m\u001b[0;34m\u001b[0m\u001b[0m\n\u001b[0m\u001b[1;32m   1231\u001b[0m \u001b[0;34m\u001b[0m\u001b[0m\n\u001b[1;32m   1232\u001b[0m                 \u001b[0;32mreturn\u001b[0m \u001b[0m_values_from_object\u001b[0m\u001b[0;34m(\u001b[0m\u001b[0mindexer\u001b[0m\u001b[0;34m)\u001b[0m\u001b[0;34m\u001b[0m\u001b[0m\n",
      "\u001b[0;31mKeyError\u001b[0m: \"['T001' 'T054C' 'CULEX ERRATICUS'] not in index\""
     ]
    }
   ],
   "source": [
    "# FOR KAGGLE:\n",
    "X_test = test_weather[['Tmax', 'Tmin', 'Tavg', 'DewPoint', 'Heat', 'Cool', 'PrecipTotal', 'StnPressure', 'ResultDir', 'AvgSpeed', 'Block', 'Latitude', 'Longitude', 'T002', 'T007', 'T015', 'T045', 'T046', 'T048', 'T049', 'T050', 'T054', 'T086', 'T091', 'T094', 'T096', 'T129', 'T143', 'T148', 'T153', 'T159', 'T009', 'T011', 'T016', 'T019', 'T025', 'T028', 'T031', 'T033', 'T089', 'T090', 'T092', 'T135', 'T141', 'T142', 'T145', 'T146', 'T147', 'T149', 'T150', 'T151', 'T152', 'T154', 'T158', 'T162', 'T218', 'T220', 'T001', 'T003', 'T006', 'T008', 'T012', 'T034', 'T037', 'T040', 'T043', 'T047', 'T051', 'T085', 'T088', 'T161', 'T219', 'T013', 'T014', 'T018', 'T030', 'T084', 'T144', 'T160', 'T005', 'T017', 'T044', 'T095', 'T004', 'T035', 'T036', 'T039', 'T060', 'T061', 'T062', 'T065', 'T066', 'T067', 'T069', 'T070', 'T071', 'T073', 'T074', 'T075', 'T076', 'T077', 'T079', 'T080', 'T081', 'T082', 'T083', 'T114', 'T155', 'T063', 'T115', 'T138', 'T200', 'T206', 'T209', 'T212', 'T215', 'T107', 'T128', 'T072', 'T078', 'T097', 'T099', 'T100', 'T102', 'T103', 'T027', 'T156', 'T157', 'T221', 'T900', 'T903', 'T222', 'T223', 'T225', 'T227', 'T224', 'T226', 'T229', 'T230', 'T228', 'T232', 'T231', 'T235', 'T233', 'T236', 'T237', 'T238', 'T094B', 'T054C', 'CULEX PIPIENS/RESTUANS', 'CULEX RESTUANS', 'CULEX PIPIENS', 'CULEX SALINARIUS', 'CULEX TERRITANS', 'CULEX TARSALIS', 'CULEX ERRATICUS']]\n"
   ]
  },
  {
   "cell_type": "code",
   "execution_count": 409,
   "metadata": {
    "collapsed": false
   },
   "outputs": [],
   "source": [
    "# knn5 = KNeighborsClassifier(n_neighbors = 5) #hey! that got better!\n",
    "# knn5.fit(X, y)\n",
    "# # knn5.score(X_test, y_test)"
   ]
  },
  {
   "cell_type": "code",
   "execution_count": 468,
   "metadata": {
    "collapsed": false
   },
   "outputs": [],
   "source": [
    "y_pred_class = knn.predict_proba(test_weather[cols])"
   ]
  },
  {
   "cell_type": "code",
   "execution_count": 469,
   "metadata": {
    "collapsed": false
   },
   "outputs": [
    {
     "data": {
      "text/plain": [
       "array([[ 1. ,  0. ],\n",
       "       [ 1. ,  0. ],\n",
       "       [ 0.8,  0.2],\n",
       "       ..., \n",
       "       [ 1. ,  0. ],\n",
       "       [ 1. ,  0. ],\n",
       "       [ 1. ,  0. ]])"
      ]
     },
     "execution_count": 469,
     "metadata": {},
     "output_type": "execute_result"
    }
   ],
   "source": [
    "y_pred_class"
   ]
  },
  {
   "cell_type": "code",
   "execution_count": 470,
   "metadata": {
    "collapsed": false,
    "scrolled": true
   },
   "outputs": [],
   "source": [
    "Y_pp = pd.DataFrame(knn.predict(test_weather[cols]))"
   ]
  },
  {
   "cell_type": "code",
   "execution_count": 413,
   "metadata": {
    "collapsed": true
   },
   "outputs": [],
   "source": [
    "#For Probabilities"
   ]
  },
  {
   "cell_type": "code",
   "execution_count": 471,
   "metadata": {
    "collapsed": false
   },
   "outputs": [
    {
     "name": "stdout",
     "output_type": "stream",
     "text": [
      "   Negative  Positive\n",
      "0       1.0       0.0\n",
      "1       1.0       0.0\n",
      "2       0.8       0.2\n",
      "3       1.0       0.0\n",
      "4       1.0       0.0\n",
      "5       1.0       0.0\n",
      "6       1.0       0.0\n",
      "7       1.0       0.0\n",
      "8       0.6       0.4\n",
      "9       0.8       0.2\n"
     ]
    }
   ],
   "source": [
    "# Get the predicted probability vector\n",
    "Y_pp = pd.DataFrame(knn.predict_proba(test_weather[cols]), columns=['Negative','Positive'])\n",
    "print(Y_pp.iloc[0:10])"
   ]
  },
  {
   "cell_type": "code",
   "execution_count": 472,
   "metadata": {
    "collapsed": false
   },
   "outputs": [],
   "source": [
    "Y_pp['pred_class_thresh10'] = [1 if x >= 0.10 else 0 for x in Y_pp.Positive.values] "
   ]
  },
  {
   "cell_type": "code",
   "execution_count": 473,
   "metadata": {
    "collapsed": true
   },
   "outputs": [],
   "source": [
    "Y_pp['pred_class_thresh50'] = [1 if x >= 0.50 else 0 for x in Y_pp.Positive.values] "
   ]
  },
  {
   "cell_type": "code",
   "execution_count": 474,
   "metadata": {
    "collapsed": false
   },
   "outputs": [
    {
     "name": "stdout",
     "output_type": "stream",
     "text": [
      "   Negative  Positive  pred_class_thresh10  pred_class_thresh50\n",
      "0       1.0       0.0                    0                    0\n",
      "1       1.0       0.0                    0                    0\n",
      "2       0.8       0.2                    1                    0\n",
      "3       1.0       0.0                    0                    0\n",
      "4       1.0       0.0                    0                    0\n",
      "5       1.0       0.0                    0                    0\n",
      "6       1.0       0.0                    0                    0\n",
      "7       1.0       0.0                    0                    0\n",
      "8       0.6       0.4                    1                    0\n",
      "9       0.8       0.2                    1                    0\n"
     ]
    }
   ],
   "source": [
    "print(Y_pp.iloc[0:10])"
   ]
  },
  {
   "cell_type": "code",
   "execution_count": 475,
   "metadata": {
    "collapsed": false
   },
   "outputs": [],
   "source": [
    "Y_pp[\"Id\"] = test_weather[\"Id\"]"
   ]
  },
  {
   "cell_type": "code",
   "execution_count": 476,
   "metadata": {
    "collapsed": false
   },
   "outputs": [
    {
     "data": {
      "text/plain": [
       "(116293, 5)"
      ]
     },
     "execution_count": 476,
     "metadata": {},
     "output_type": "execute_result"
    }
   ],
   "source": [
    "Y_pp.shape"
   ]
  },
  {
   "cell_type": "code",
   "execution_count": 477,
   "metadata": {
    "collapsed": true
   },
   "outputs": [],
   "source": [
    "Y_pp[\"WnvPresent\"] = Y_pp[\"pred_class_thresh10\"]"
   ]
  },
  {
   "cell_type": "code",
   "execution_count": 478,
   "metadata": {
    "collapsed": false
   },
   "outputs": [],
   "source": [
    "Submit2 = pd.DataFrame()\n",
    "Submit2['Id'] = Y_pp['Id']"
   ]
  },
  {
   "cell_type": "code",
   "execution_count": 479,
   "metadata": {
    "collapsed": false
   },
   "outputs": [],
   "source": [
    "Submit2['WnvPresent'] = Y_pp['WnvPresent']"
   ]
  },
  {
   "cell_type": "code",
   "execution_count": 480,
   "metadata": {
    "collapsed": false
   },
   "outputs": [],
   "source": [
    "Submit2.Id.drop_duplicates(inplace=True)"
   ]
  },
  {
   "cell_type": "code",
   "execution_count": 481,
   "metadata": {
    "collapsed": false
   },
   "outputs": [
    {
     "data": {
      "text/plain": [
       "(116293, 2)"
      ]
     },
     "execution_count": 481,
     "metadata": {},
     "output_type": "execute_result"
    }
   ],
   "source": [
    "Submit2.shape"
   ]
  },
  {
   "cell_type": "code",
   "execution_count": 482,
   "metadata": {
    "collapsed": false
   },
   "outputs": [],
   "source": [
    "Submit2.to_csv('Submit2.csv', index=False)"
   ]
  },
  {
   "cell_type": "code",
   "execution_count": null,
   "metadata": {
    "collapsed": true
   },
   "outputs": [],
   "source": [
    "confusion = pd.DataFrame(conmat, index=['has_wnv', 'no_wnv'],\n",
    "                         columns=['predicted_wnv','predicted_no_wnv'])"
   ]
  },
  {
   "cell_type": "code",
   "execution_count": null,
   "metadata": {
    "collapsed": true
   },
   "outputs": [],
   "source": [
    "# In order to do this, we can lower the threshold for predicting WNV.\n",
    "# This will reduce our false negative rate to 0, but at the expense of our false positive rate."
   ]
  },
  {
   "cell_type": "code",
   "execution_count": 32,
   "metadata": {
    "collapsed": false
   },
   "outputs": [
    {
     "ename": "AttributeError",
     "evalue": "'DataFrame' object has no attribute 'Positive'",
     "output_type": "error",
     "traceback": [
      "\u001b[0;31m---------------------------------------------------------------------------\u001b[0m",
      "\u001b[0;31mAttributeError\u001b[0m                            Traceback (most recent call last)",
      "\u001b[0;32m<ipython-input-32-d7c79053bf6d>\u001b[0m in \u001b[0;36m<module>\u001b[0;34m()\u001b[0m\n\u001b[0;32m----> 1\u001b[0;31m \u001b[0mY_pp\u001b[0m\u001b[0;34m[\u001b[0m\u001b[0;34m'pred_class_thresh10'\u001b[0m\u001b[0;34m]\u001b[0m \u001b[0;34m=\u001b[0m \u001b[0;34m[\u001b[0m\u001b[0;36m1\u001b[0m \u001b[0;32mif\u001b[0m \u001b[0mx\u001b[0m \u001b[0;34m>=\u001b[0m \u001b[0;36m0.10\u001b[0m \u001b[0;32melse\u001b[0m \u001b[0;36m0\u001b[0m \u001b[0;32mfor\u001b[0m \u001b[0mx\u001b[0m \u001b[0;32min\u001b[0m \u001b[0mY_pp\u001b[0m\u001b[0;34m.\u001b[0m\u001b[0mPositive\u001b[0m\u001b[0;34m.\u001b[0m\u001b[0mvalues\u001b[0m\u001b[0;34m]\u001b[0m\u001b[0;34m\u001b[0m\u001b[0m\n\u001b[0m",
      "\u001b[0;32m//anaconda/lib/python2.7/site-packages/pandas/core/generic.pyc\u001b[0m in \u001b[0;36m__getattr__\u001b[0;34m(self, name)\u001b[0m\n\u001b[1;32m   2742\u001b[0m             \u001b[0;32mif\u001b[0m \u001b[0mname\u001b[0m \u001b[0;32min\u001b[0m \u001b[0mself\u001b[0m\u001b[0;34m.\u001b[0m\u001b[0m_info_axis\u001b[0m\u001b[0;34m:\u001b[0m\u001b[0;34m\u001b[0m\u001b[0m\n\u001b[1;32m   2743\u001b[0m                 \u001b[0;32mreturn\u001b[0m \u001b[0mself\u001b[0m\u001b[0;34m[\u001b[0m\u001b[0mname\u001b[0m\u001b[0;34m]\u001b[0m\u001b[0;34m\u001b[0m\u001b[0m\n\u001b[0;32m-> 2744\u001b[0;31m             \u001b[0;32mreturn\u001b[0m \u001b[0mobject\u001b[0m\u001b[0;34m.\u001b[0m\u001b[0m__getattribute__\u001b[0m\u001b[0;34m(\u001b[0m\u001b[0mself\u001b[0m\u001b[0;34m,\u001b[0m \u001b[0mname\u001b[0m\u001b[0;34m)\u001b[0m\u001b[0;34m\u001b[0m\u001b[0m\n\u001b[0m\u001b[1;32m   2745\u001b[0m \u001b[0;34m\u001b[0m\u001b[0m\n\u001b[1;32m   2746\u001b[0m     \u001b[0;32mdef\u001b[0m \u001b[0m__setattr__\u001b[0m\u001b[0;34m(\u001b[0m\u001b[0mself\u001b[0m\u001b[0;34m,\u001b[0m \u001b[0mname\u001b[0m\u001b[0;34m,\u001b[0m \u001b[0mvalue\u001b[0m\u001b[0;34m)\u001b[0m\u001b[0;34m:\u001b[0m\u001b[0;34m\u001b[0m\u001b[0m\n",
      "\u001b[0;31mAttributeError\u001b[0m: 'DataFrame' object has no attribute 'Positive'"
     ]
    }
   ],
   "source": [
    "Y_pp['pred_class_thresh10'] = [1 if x >= 0.10 else 0 for x in Y_pp.Positive.values]"
   ]
  },
  {
   "cell_type": "code",
   "execution_count": 33,
   "metadata": {
    "collapsed": false
   },
   "outputs": [
    {
     "name": "stdout",
     "output_type": "stream",
     "text": [
      "   0\n",
      "0  0\n",
      "1  0\n",
      "2  0\n",
      "3  0\n",
      "4  0\n",
      "5  0\n",
      "6  0\n",
      "7  0\n",
      "8  0\n",
      "9  0\n"
     ]
    }
   ],
   "source": [
    "print(Y_pp.iloc[0:10])"
   ]
  },
  {
   "cell_type": "code",
   "execution_count": null,
   "metadata": {
    "collapsed": true
   },
   "outputs": [],
   "source": [
    "from sklearn.metrics import roc_auc_score\n",
    "import matplotlib.pyplot as plt\n",
    "# plt.style.use('seaborn-white')\n",
    "%matplotlib inline"
   ]
  },
  {
   "cell_type": "code",
   "execution_count": 137,
   "metadata": {
    "collapsed": false
   },
   "outputs": [],
   "source": [
    "### NAIVE BAYES STARTS HERE\n",
    "import pandas as pd\n",
    "from sklearn.naive_bayes import GaussianNB #can also use multinomial NB\n",
    "import numpy as np\n",
    "\n",
    "X = train_weather[['Tmax', 'Tmin', 'Tavg', 'Heat', 'Cool', 'ResultDir']].values\n",
    "y = train_weather.WnvPresent.values\n",
    "\n",
    "# FOR KAGGLE:\n",
    "# X_test = test_weather[['Tmax', 'Tmin', 'Tavg', 'DewPoint', 'Heat', 'Cool', 'PrecipTotal', 'StnPressure', 'ResultDir', 'AvgSpeed', 'Block', 'Latitude', 'Longitude', 'T002', 'T007', 'T015', 'T045', 'T046', 'T048', 'T049', 'T050', 'T054', 'T086', 'T091', 'T094', 'T096', 'T129', 'T143', 'T148', 'T153', 'T159', 'T009', 'T011', 'T016', 'T019', 'T025', 'T028', 'T031', 'T033', 'T089', 'T090', 'T092', 'T135', 'T141', 'T142', 'T145', 'T146', 'T147', 'T149', 'T150', 'T151', 'T152', 'T154', 'T158', 'T162', 'T218', 'T220', 'T001', 'T003', 'T006', 'T008', 'T012', 'T034', 'T037', 'T040', 'T043', 'T047', 'T051', 'T085', 'T088', 'T161', 'T219', 'T013', 'T014', 'T018', 'T030', 'T084', 'T144', 'T160', 'T005', 'T017', 'T044', 'T095', 'T004', 'T035', 'T036', 'T039', 'T060', 'T061', 'T062', 'T065', 'T066', 'T067', 'T069', 'T070', 'T071', 'T073', 'T074', 'T075', 'T076', 'T077', 'T079', 'T080', 'T081', 'T082', 'T083', 'T114', 'T155', 'T063', 'T115', 'T138', 'T200', 'T206', 'T209', 'T212', 'T215', 'T107', 'T128', 'T072', 'T078', 'T097', 'T099', 'T100', 'T102', 'T103', 'T027', 'T156', 'T157', 'T221', 'T900', 'T903', 'T222', 'T223', 'T225', 'T227', 'T224', 'T226', 'T229', 'T230', 'T228', 'T232', 'T231', 'T235', 'T233', 'T236', 'T237', 'T238', 'T094B', 'T054C', 'CULEX PIPIENS/RESTUANS', 'CULEX RESTUANS', 'CULEX PIPIENS', 'CULEX SALINARIUS', 'CULEX TERRITANS', 'CULEX TARSALIS', 'CULEX ERRATICUS']]\n"
   ]
  },
  {
   "cell_type": "code",
   "execution_count": 138,
   "metadata": {
    "collapsed": true
   },
   "outputs": [],
   "source": [
    "from sklearn.model_selection import train_test_split #importing this from model_evaluation instead of cross_val\n",
    "X_train, X_test, y_train, y_test = train_test_split(X,y, test_size=0.33) #and creating a train and test set using TTS"
   ]
  },
  {
   "cell_type": "code",
   "execution_count": 147,
   "metadata": {
    "collapsed": false
   },
   "outputs": [
    {
     "data": {
      "text/plain": [
       "GaussianNB(priors=None)"
      ]
     },
     "execution_count": 147,
     "metadata": {},
     "output_type": "execute_result"
    }
   ],
   "source": [
    "clf = GaussianNB()\n",
    "model = clf.fit(X_train, y_train)\n",
    "predictions = model.predict(X_test)\n",
    "GaussianNB()"
   ]
  },
  {
   "cell_type": "code",
   "execution_count": 148,
   "metadata": {
    "collapsed": false
   },
   "outputs": [
    {
     "data": {
      "text/plain": [
       "0.94937986732044999"
      ]
     },
     "execution_count": 148,
     "metadata": {},
     "output_type": "execute_result"
    }
   ],
   "source": [
    "model.score(X_test, y_test)\n",
    "\n",
    "# print(clf.predict(X_test))\n",
    "# clf_pf = GaussianNB()\n",
    "# clf_pf.partial_fit(X, y, np.unique(y))\n",
    "# GaussianNB()\n",
    "# print(clf_pf.predict(X_test))"
   ]
  },
  {
   "cell_type": "code",
   "execution_count": 149,
   "metadata": {
    "collapsed": true
   },
   "outputs": [],
   "source": [
    "from sklearn.metrics import roc_auc_score"
   ]
  },
  {
   "cell_type": "code",
   "execution_count": 150,
   "metadata": {
    "collapsed": false
   },
   "outputs": [],
   "source": [
    "roc_auc= roc_auc_score(y_test, predictions)"
   ]
  },
  {
   "cell_type": "code",
   "execution_count": 151,
   "metadata": {
    "collapsed": false
   },
   "outputs": [
    {
     "data": {
      "text/plain": [
       "0.5"
      ]
     },
     "execution_count": 151,
     "metadata": {},
     "output_type": "execute_result"
    }
   ],
   "source": [
    "roc_auc"
   ]
  },
  {
   "cell_type": "code",
   "execution_count": null,
   "metadata": {
    "collapsed": true
   },
   "outputs": [],
   "source": []
  }
 ],
 "metadata": {
  "kernelspec": {
   "display_name": "Python 2",
   "language": "python",
   "name": "python2"
  },
  "language_info": {
   "codemirror_mode": {
    "name": "ipython",
    "version": 2
   },
   "file_extension": ".py",
   "mimetype": "text/x-python",
   "name": "python",
   "nbconvert_exporter": "python",
   "pygments_lexer": "ipython2",
   "version": "2.7.13"
  }
 },
 "nbformat": 4,
 "nbformat_minor": 2
}
